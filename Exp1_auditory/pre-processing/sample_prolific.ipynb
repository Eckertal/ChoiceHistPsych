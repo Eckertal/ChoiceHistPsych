{
 "cells": [
  {
   "cell_type": "code",
   "execution_count": 89,
   "metadata": {},
   "outputs": [],
   "source": [
    "import os, sys, csv, glob, re\n",
    "import matplotlib.pyplot as plt\n",
    "import pandas as pd\n",
    "import seaborn as sns\n",
    "import numpy as np\n",
    "\n",
    "# displaying options\n",
    "pd.set_option('display.max_columns', None)\n",
    "pd.set_option('display.max_rows', None)"
   ]
  },
  {
   "cell_type": "code",
   "execution_count": 10,
   "metadata": {},
   "outputs": [],
   "source": [
    "os.chdir('C:\\\\Users\\\\annae\\\\Dropbox\\\\PhD\\\\click_gamified+\\\\ONLINE_EXPERIMENT\\\\FINAL_DATA')\n",
    "df = pd.read_csv('prolific_export_5f43c3c43aa2e465e962013a.csv')\n"
   ]
  },
  {
   "cell_type": "code",
   "execution_count": 87,
   "metadata": {},
   "outputs": [],
   "source": [
    "included = []\n",
    "\n",
    "with open('names_included.txt', 'r') as f: \n",
    "    lines = f.readlines()\n",
    "    \n",
    "    for l in lines: \n",
    "        name = re.sub(r'\\W+', '', l)\n",
    "        included.append(name)\n"
   ]
  },
  {
   "cell_type": "code",
   "execution_count": 91,
   "metadata": {},
   "outputs": [],
   "source": [
    "cols = ['sbj_id', 'age', 'num_approved', 'num_reject', 'prolific_score', 'sex']\n",
    "df_info = pd.DataFrame(columns=cols)\n",
    "\n",
    "for index, row in df.iterrows(): \n",
    "    \n",
    "    if row['participant_id'] in included: \n",
    "        \n",
    "        case=dict()\n",
    "        \n",
    "        case['sbj_id'] = row['participant_id']\n",
    "        \n",
    "        case['age'] = row['age']\n",
    "        \n",
    "        case['num_approved'] = row['num_approvals']\n",
    "        \n",
    "        case['num_reject'] = row['num_rejections']\n",
    "        \n",
    "        case['prolific_score'] = row['prolific_score']\n",
    "        \n",
    "        case['sex'] = row['Sex']\n",
    "        \n",
    "        df_info = df_info.append(case, ignore_index=True)\n",
    "        \n",
    "        "
   ]
  },
  {
   "cell_type": "code",
   "execution_count": 94,
   "metadata": {},
   "outputs": [
    {
     "name": "stdout",
     "output_type": "stream",
     "text": [
      "Mean age:  24.79646017699115 ; std.:  7.343801190746079\n"
     ]
    }
   ],
   "source": [
    "print('Mean age: ', df_info['age'].mean(), '; std.: ', df_info['age'].std())"
   ]
  },
  {
   "cell_type": "code",
   "execution_count": 97,
   "metadata": {},
   "outputs": [
    {
     "name": "stdout",
     "output_type": "stream",
     "text": [
      "Mean nr. of approved prolific submissions:  119.19469026548673 \n",
      "Mean nr. of rejected prolific submissions:  0.9911504424778761\n"
     ]
    }
   ],
   "source": [
    "print('Mean nr. of approved prolific submissions: ', df_info['num_approved'].mean(), \n",
    "      '\\nMean nr. of rejected prolific submissions: ', df_info['num_reject'].mean())"
   ]
  },
  {
   "cell_type": "code",
   "execution_count": 98,
   "metadata": {},
   "outputs": [
    {
     "name": "stdout",
     "output_type": "stream",
     "text": [
      "Mean prolific score:  99.43362831858407\n"
     ]
    }
   ],
   "source": [
    "print('Mean prolific score: ', df_info['prolific_score'].mean())"
   ]
  },
  {
   "cell_type": "code",
   "execution_count": 111,
   "metadata": {},
   "outputs": [
    {
     "data": {
      "text/html": [
       "<div>\n",
       "<style scoped>\n",
       "    .dataframe tbody tr th:only-of-type {\n",
       "        vertical-align: middle;\n",
       "    }\n",
       "\n",
       "    .dataframe tbody tr th {\n",
       "        vertical-align: top;\n",
       "    }\n",
       "\n",
       "    .dataframe thead th {\n",
       "        text-align: right;\n",
       "    }\n",
       "</style>\n",
       "<table border=\"1\" class=\"dataframe\">\n",
       "  <thead>\n",
       "    <tr style=\"text-align: right;\">\n",
       "      <th></th>\n",
       "      <th>sbj_id</th>\n",
       "      <th>age</th>\n",
       "      <th>num_approved</th>\n",
       "      <th>num_reject</th>\n",
       "      <th>prolific_score</th>\n",
       "    </tr>\n",
       "    <tr>\n",
       "      <th>sex</th>\n",
       "      <th></th>\n",
       "      <th></th>\n",
       "      <th></th>\n",
       "      <th></th>\n",
       "      <th></th>\n",
       "    </tr>\n",
       "  </thead>\n",
       "  <tbody>\n",
       "    <tr>\n",
       "      <th>Female</th>\n",
       "      <td>38</td>\n",
       "      <td>38</td>\n",
       "      <td>38</td>\n",
       "      <td>38</td>\n",
       "      <td>38</td>\n",
       "    </tr>\n",
       "    <tr>\n",
       "      <th>Male</th>\n",
       "      <td>75</td>\n",
       "      <td>75</td>\n",
       "      <td>75</td>\n",
       "      <td>75</td>\n",
       "      <td>75</td>\n",
       "    </tr>\n",
       "  </tbody>\n",
       "</table>\n",
       "</div>"
      ],
      "text/plain": [
       "        sbj_id  age  num_approved  num_reject  prolific_score\n",
       "sex                                                          \n",
       "Female      38   38            38          38              38\n",
       "Male        75   75            75          75              75"
      ]
     },
     "execution_count": 111,
     "metadata": {},
     "output_type": "execute_result"
    }
   ],
   "source": [
    "df_info.groupby('sex').count()"
   ]
  },
  {
   "cell_type": "code",
   "execution_count": null,
   "metadata": {},
   "outputs": [],
   "source": []
  }
 ],
 "metadata": {
  "kernelspec": {
   "display_name": "Python 3",
   "language": "python",
   "name": "python3"
  },
  "language_info": {
   "codemirror_mode": {
    "name": "ipython",
    "version": 3
   },
   "file_extension": ".py",
   "mimetype": "text/x-python",
   "name": "python",
   "nbconvert_exporter": "python",
   "pygments_lexer": "ipython3",
   "version": "3.8.3"
  }
 },
 "nbformat": 4,
 "nbformat_minor": 4
}
