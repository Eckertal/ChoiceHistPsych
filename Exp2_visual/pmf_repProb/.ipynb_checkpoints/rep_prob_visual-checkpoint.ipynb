{
 "cells": [
  {
   "cell_type": "markdown",
   "metadata": {},
   "source": [
    "# Repetition probability visual\n",
    "\n",
    "Analysis for the visual experiment, looks at repetition probabilities as a function of psychosis-proneness, as well as corrected partial correlations that check for performance levels\n",
    "\n",
    "(c) Anna-Lena Eckert"
   ]
  },
  {
   "cell_type": "code",
   "execution_count": 3,
   "metadata": {},
   "outputs": [],
   "source": [
    "import pandas as pd\n",
    "import matplotlib.pyplot as plt\n",
    "import seaborn as sns\n",
    "import numpy as np\n",
    "import sys, os, glob\n",
    "import csv\n",
    "import pingouin as pg\n",
    "\n",
    "from scipy.stats import ttest_rel\n",
    "from pathlib import Path\n",
    "\n",
    "# settings for more convenient df inspection\n",
    "pd.set_option('display.max_columns',None)\n",
    "pd.set_option('display.max_rows',None)"
   ]
  },
  {
   "cell_type": "code",
   "execution_count": 4,
   "metadata": {},
   "outputs": [
    {
     "name": "stdout",
     "output_type": "stream",
     "text": [
      "41\n"
     ]
    }
   ],
   "source": [
    "# change into folder that contains data. \n",
    "path = os.getcwd()\n",
    "p = Path(path).parents[1]\n",
    "file_path = str(p) + '\\\\Data\\\\Exp2_visual\\\\'\n",
    "os.chdir(file_path)\n",
    "\n",
    "df = pd.read_csv('exp2_model1_visual.csv')\n",
    "# drop random unnamed columns\n",
    "df = df.loc[:, ~df.columns.str.contains('^Unnamed')]\n",
    "df.head()\n",
    "\n",
    "# exclude subject who did not meet performance criterion\n",
    "df = df.drop(df[df.sbj_id == 'ANI05H'].index)\n",
    "print(len(list(df['sbj_id'].unique())))"
   ]
  },
  {
   "cell_type": "code",
   "execution_count": 6,
   "metadata": {},
   "outputs": [],
   "source": [
    "# create repetition column, if == 0: current response is NOT a repetition, elif == 1: IS repetition\n",
    "df['repeat'] = np.nan\n",
    "\n",
    "for index, row in df.iterrows(): \n",
    "    if row['response'] == row['resp_1']: \n",
    "        rep = 1\n",
    "    elif row['response'] != row['resp_1']: \n",
    "        rep = 0\n",
    "        \n",
    "    df.at[index, 'repeat'] = rep"
   ]
  },
  {
   "cell_type": "code",
   "execution_count": 7,
   "metadata": {},
   "outputs": [],
   "source": [
    "subjects = list(df['sbj_id'].unique())\n",
    "\n",
    "# initialize result frame\n",
    "df_rep = pd.DataFrame(columns=['sbj_id', 'rep_prob', 'rep_prob_rep', 'rep_prob_neut', 'PPS'])\n",
    "\n",
    "for sbj_id in subjects:\n",
    "    # get overall repetition probability across blocks\n",
    "    df_sbj = df[df['sbj_id']==sbj_id]\n",
    "    rep_mean = df_sbj['repeat'].mean()\n",
    "    pps = df_sbj['PPS'].mean()\n",
    "    \n",
    "    # get repetition probability in repetitive blocks careful: coding is reversed in Exp. 1\n",
    "    rep_rep_mean = df_sbj[df_sbj['block_type']==1]['repeat'].mean()\n",
    "    \n",
    "    # get repetition probability in neutral blocks\n",
    "    rep_neut_mean = df_sbj[df_sbj['block_type']==0]['repeat'].mean()\n",
    "    \n",
    "    # put it in result df\n",
    "    case = {'sbj_id':sbj_id,'rep_prob':rep_mean,'rep_prob_rep':rep_rep_mean,'rep_prob_neut':rep_neut_mean,'PPS':pps}\n",
    "    df_rep = df_rep.append(case, ignore_index = True)"
   ]
  },
  {
   "cell_type": "code",
   "execution_count": 8,
   "metadata": {},
   "outputs": [],
   "source": [
    "# correlate mean repetition probability and PPS in repetitive blocks\n",
    "corr_pps_rep = np.corrcoef(df_rep['PPS'], df_rep['rep_prob_rep'])\n",
    "corr_pps_rep = corr_pps_rep[0][1]\n",
    "\n",
    "# correlate mean repetition prob and PPS in neutral blocks\n",
    "corr_pps_neut = np.corrcoef(df_rep['PPS'], df_rep['rep_prob_neut'])\n",
    "corr_pps_neut = corr_pps_neut[0][1]\n",
    "\n",
    "# correlate overall mean repetition prob and PPS\n",
    "corr_pps = np.corrcoef(df_rep['PPS'], df_rep['rep_prob'])\n",
    "corr_pps = corr_pps[0][1]"
   ]
  },
  {
   "cell_type": "code",
   "execution_count": 11,
   "metadata": {},
   "outputs": [
    {
     "name": "stderr",
     "output_type": "stream",
     "text": [
      "<ipython-input-11-1de79ab3c21b>:10: RuntimeWarning: invalid value encountered in longlong_scalars\n",
      "  perc_correct = (count_corr/ total_trials)*100\n"
     ]
    }
   ],
   "source": [
    "subjects = list(df_rep.index)\n",
    "df_rep['performance'] = np.nan\n",
    "#df_rep.set_index('sbj_id', inplace=True)\n",
    "\n",
    "for sbj in subjects[0:42]: \n",
    "    df_sbj = df[df['sbj_id']==sbj]\n",
    "    res = df_sbj.groupby(['target', 'response']).size().reset_index(name=\"freq\")\n",
    "    total_trials = res['freq'].sum()\n",
    "    count_corr = res[(res['target']==0) == (res['response']==0)]['freq'].sum()\n",
    "    perc_correct = (count_corr/ total_trials)*100\n",
    "    \n",
    "    df_rep.at[sbj, 'performance'] = perc_correct   "
   ]
  },
  {
   "cell_type": "code",
   "execution_count": 12,
   "metadata": {},
   "outputs": [
    {
     "name": "stdout",
     "output_type": "stream",
     "text": [
      "Mean performance: 72.096 percent\n",
      "Mean performance std: 4.292\n"
     ]
    }
   ],
   "source": [
    "print('Mean performance: %.3f percent' % df_rep['performance'].mean())\n",
    "print('Mean performance std: %.3f' % df_rep['performance'].std())"
   ]
  },
  {
   "cell_type": "code",
   "execution_count": 13,
   "metadata": {},
   "outputs": [
    {
     "data": {
      "text/html": [
       "<div>\n",
       "<style scoped>\n",
       "    .dataframe tbody tr th:only-of-type {\n",
       "        vertical-align: middle;\n",
       "    }\n",
       "\n",
       "    .dataframe tbody tr th {\n",
       "        vertical-align: top;\n",
       "    }\n",
       "\n",
       "    .dataframe thead th {\n",
       "        text-align: right;\n",
       "    }\n",
       "</style>\n",
       "<table border=\"1\" class=\"dataframe\">\n",
       "  <thead>\n",
       "    <tr style=\"text-align: right;\">\n",
       "      <th></th>\n",
       "      <th>rep_prob</th>\n",
       "      <th>rep_prob_rep</th>\n",
       "      <th>rep_prob_neut</th>\n",
       "      <th>PPS</th>\n",
       "      <th>performance</th>\n",
       "    </tr>\n",
       "    <tr>\n",
       "      <th>sbj_id</th>\n",
       "      <th></th>\n",
       "      <th></th>\n",
       "      <th></th>\n",
       "      <th></th>\n",
       "      <th></th>\n",
       "    </tr>\n",
       "  </thead>\n",
       "  <tbody>\n",
       "    <tr>\n",
       "      <th>FES01B</th>\n",
       "      <td>0.576316</td>\n",
       "      <td>0.489474</td>\n",
       "      <td>0.663158</td>\n",
       "      <td>-1.121052</td>\n",
       "      <td>64.210526</td>\n",
       "    </tr>\n",
       "  </tbody>\n",
       "</table>\n",
       "</div>"
      ],
      "text/plain": [
       "        rep_prob  rep_prob_rep  rep_prob_neut       PPS  performance\n",
       "sbj_id                                                              \n",
       "FES01B  0.576316      0.489474       0.663158 -1.121052    64.210526"
      ]
     },
     "metadata": {},
     "output_type": "display_data"
    },
    {
     "data": {
      "text/html": [
       "<div>\n",
       "<style scoped>\n",
       "    .dataframe tbody tr th:only-of-type {\n",
       "        vertical-align: middle;\n",
       "    }\n",
       "\n",
       "    .dataframe tbody tr th {\n",
       "        vertical-align: top;\n",
       "    }\n",
       "\n",
       "    .dataframe thead th {\n",
       "        text-align: right;\n",
       "    }\n",
       "</style>\n",
       "<table border=\"1\" class=\"dataframe\">\n",
       "  <thead>\n",
       "    <tr style=\"text-align: right;\">\n",
       "      <th></th>\n",
       "      <th>rep_prob</th>\n",
       "      <th>rep_prob_rep</th>\n",
       "      <th>rep_prob_neut</th>\n",
       "      <th>PPS</th>\n",
       "      <th>performance</th>\n",
       "    </tr>\n",
       "    <tr>\n",
       "      <th>sbj_id</th>\n",
       "      <th></th>\n",
       "      <th></th>\n",
       "      <th></th>\n",
       "      <th></th>\n",
       "      <th></th>\n",
       "    </tr>\n",
       "  </thead>\n",
       "  <tbody>\n",
       "    <tr>\n",
       "      <th>GUY14C</th>\n",
       "      <td>0.555263</td>\n",
       "      <td>0.528947</td>\n",
       "      <td>0.581579</td>\n",
       "      <td>-1.072565</td>\n",
       "      <td>79.605263</td>\n",
       "    </tr>\n",
       "  </tbody>\n",
       "</table>\n",
       "</div>"
      ],
      "text/plain": [
       "        rep_prob  rep_prob_rep  rep_prob_neut       PPS  performance\n",
       "sbj_id                                                              \n",
       "GUY14C  0.555263      0.528947       0.581579 -1.072565    79.605263"
      ]
     },
     "metadata": {},
     "output_type": "display_data"
    }
   ],
   "source": [
    "min_perform = df_rep['performance'].min()\n",
    "max_perform = df_rep['performance'].max()\n",
    "\n",
    "display(df_rep[df_rep['performance']==min_perform])\n",
    "display(df_rep[df_rep['performance']==max_perform])"
   ]
  },
  {
   "cell_type": "code",
   "execution_count": 14,
   "metadata": {},
   "outputs": [],
   "source": [
    "# partial correlation between PPS and repetition probability but controlled for performance, using pingouin package \n",
    "# create partial correlation: general repetition probability \n",
    "pc_allBlocks = pg.partial_corr(data=df_rep , x='PPS', y='rep_prob', covar='performance')\n",
    "\n",
    "# partial corr: repetitive blocks. \n",
    "pc_repBlocks = pg.partial_corr(data=df_rep, x='PPS', y='rep_prob_rep', covar='performance')\n",
    "\n",
    "# partial corr: neutral blocks\n",
    "pc_neutBlocks = pg.partial_corr(data=df_rep, x='PPS', y='rep_prob_neut', covar='performance')"
   ]
  },
  {
   "cell_type": "code",
   "execution_count": 15,
   "metadata": {},
   "outputs": [
    {
     "name": "stdout",
     "output_type": "stream",
     "text": [
      "Partial correlation between PPS and repetition probability, controlled for performance.\n",
      "Across block types: \n"
     ]
    },
    {
     "data": {
      "text/html": [
       "<div>\n",
       "<style scoped>\n",
       "    .dataframe tbody tr th:only-of-type {\n",
       "        vertical-align: middle;\n",
       "    }\n",
       "\n",
       "    .dataframe tbody tr th {\n",
       "        vertical-align: top;\n",
       "    }\n",
       "\n",
       "    .dataframe thead th {\n",
       "        text-align: right;\n",
       "    }\n",
       "</style>\n",
       "<table border=\"1\" class=\"dataframe\">\n",
       "  <thead>\n",
       "    <tr style=\"text-align: right;\">\n",
       "      <th></th>\n",
       "      <th>n</th>\n",
       "      <th>r</th>\n",
       "      <th>CI95%</th>\n",
       "      <th>p-val</th>\n",
       "    </tr>\n",
       "  </thead>\n",
       "  <tbody>\n",
       "    <tr>\n",
       "      <th>pearson</th>\n",
       "      <td>41</td>\n",
       "      <td>-0.282511</td>\n",
       "      <td>[-0.55, 0.03]</td>\n",
       "      <td>0.077349</td>\n",
       "    </tr>\n",
       "  </tbody>\n",
       "</table>\n",
       "</div>"
      ],
      "text/plain": [
       "          n         r          CI95%     p-val\n",
       "pearson  41 -0.282511  [-0.55, 0.03]  0.077349"
      ]
     },
     "metadata": {},
     "output_type": "display_data"
    },
    {
     "name": "stdout",
     "output_type": "stream",
     "text": [
      "Only repetitive blocks: \n"
     ]
    },
    {
     "data": {
      "text/html": [
       "<div>\n",
       "<style scoped>\n",
       "    .dataframe tbody tr th:only-of-type {\n",
       "        vertical-align: middle;\n",
       "    }\n",
       "\n",
       "    .dataframe tbody tr th {\n",
       "        vertical-align: top;\n",
       "    }\n",
       "\n",
       "    .dataframe thead th {\n",
       "        text-align: right;\n",
       "    }\n",
       "</style>\n",
       "<table border=\"1\" class=\"dataframe\">\n",
       "  <thead>\n",
       "    <tr style=\"text-align: right;\">\n",
       "      <th></th>\n",
       "      <th>n</th>\n",
       "      <th>r</th>\n",
       "      <th>CI95%</th>\n",
       "      <th>p-val</th>\n",
       "    </tr>\n",
       "  </thead>\n",
       "  <tbody>\n",
       "    <tr>\n",
       "      <th>pearson</th>\n",
       "      <td>41</td>\n",
       "      <td>-0.184238</td>\n",
       "      <td>[-0.47, 0.14]</td>\n",
       "      <td>0.255099</td>\n",
       "    </tr>\n",
       "  </tbody>\n",
       "</table>\n",
       "</div>"
      ],
      "text/plain": [
       "          n         r          CI95%     p-val\n",
       "pearson  41 -0.184238  [-0.47, 0.14]  0.255099"
      ]
     },
     "metadata": {},
     "output_type": "display_data"
    },
    {
     "name": "stdout",
     "output_type": "stream",
     "text": [
      "Only neutral blocks: \n"
     ]
    },
    {
     "data": {
      "text/html": [
       "<div>\n",
       "<style scoped>\n",
       "    .dataframe tbody tr th:only-of-type {\n",
       "        vertical-align: middle;\n",
       "    }\n",
       "\n",
       "    .dataframe tbody tr th {\n",
       "        vertical-align: top;\n",
       "    }\n",
       "\n",
       "    .dataframe thead th {\n",
       "        text-align: right;\n",
       "    }\n",
       "</style>\n",
       "<table border=\"1\" class=\"dataframe\">\n",
       "  <thead>\n",
       "    <tr style=\"text-align: right;\">\n",
       "      <th></th>\n",
       "      <th>n</th>\n",
       "      <th>r</th>\n",
       "      <th>CI95%</th>\n",
       "      <th>p-val</th>\n",
       "    </tr>\n",
       "  </thead>\n",
       "  <tbody>\n",
       "    <tr>\n",
       "      <th>pearson</th>\n",
       "      <td>41</td>\n",
       "      <td>-0.342932</td>\n",
       "      <td>[-0.59, -0.04]</td>\n",
       "      <td>0.03029</td>\n",
       "    </tr>\n",
       "  </tbody>\n",
       "</table>\n",
       "</div>"
      ],
      "text/plain": [
       "          n         r           CI95%    p-val\n",
       "pearson  41 -0.342932  [-0.59, -0.04]  0.03029"
      ]
     },
     "metadata": {},
     "output_type": "display_data"
    }
   ],
   "source": [
    "print('Partial correlation between PPS and repetition probability, controlled for performance.')\n",
    "print('Across block types: ')\n",
    "display(pc_allBlocks)\n",
    "print('Only repetitive blocks: ')\n",
    "display(pc_repBlocks)\n",
    "print('Only neutral blocks: ')\n",
    "display(pc_neutBlocks)"
   ]
  },
  {
   "cell_type": "code",
   "execution_count": 16,
   "metadata": {},
   "outputs": [],
   "source": [
    "# partial correlation between PPS and repetition probability but controlled for performance, using pingouin package \n",
    "# create partial correlation: general repetition probability \n",
    "pc_allBlocks = pg.partial_corr(data=df_rep , x='PPS', y='rep_prob')\n",
    "\n",
    "# partial corr: repetitive blocks. \n",
    "pc_repBlocks = pg.partial_corr(data=df_rep, x='PPS', y='rep_prob_rep')\n",
    "\n",
    "# partial corr: neutral blocks\n",
    "pc_neutBlocks = pg.partial_corr(data=df_rep, x='PPS', y='rep_prob_neut')"
   ]
  },
  {
   "cell_type": "code",
   "execution_count": 17,
   "metadata": {},
   "outputs": [
    {
     "data": {
      "image/png": "[encoded data removed]",
      "text/plain": [
       "<Figure size 1080x432 with 3 Axes>"
      ]
     },
     "metadata": {
      "needs_background": "light"
     },
     "output_type": "display_data"
    }
   ],
   "source": [
    "# create some plots next.\n",
    "\n",
    "fig, axs = plt.subplots(1,3, sharey=True)\n",
    "fig.set_figheight(6)\n",
    "fig.set_figwidth(15)\n",
    "\n",
    "_=plt.suptitle('Experiment 2', fontsize=18)\n",
    "\n",
    "# plot overall mean repetition probability and PPS\n",
    "_=axs[0].set_title('Across block types',fontsize=14)\n",
    "_=sns.regplot(ax=axs[0], x=df_rep['PPS'], y=df_rep['rep_prob'], color='#0A9094')\n",
    "_=plt.text(0.99, 0.99, ('r=%.3f,\\n p=0.050'%pc_allBlocks['r'].values[0]), \n",
    "           ha='right', va='top', transform=axs[0].transAxes, fontsize=13)\n",
    "_=axs[0].set_ylabel('Mean repetition probability', fontsize=13)\n",
    "_=axs[0].set_xlabel(None)\n",
    "\n",
    "# plot neutral mean repetition probability and PPS\n",
    "_=axs[1].set_title('Neutral blocks',fontsize=14)\n",
    "_=plt.text(0.99, 0.99, ('r=%.3f,\\n p=0.257'%pc_neutBlocks['r'].values[0]), \n",
    "           ha='right', va='top', transform=axs[1].transAxes, fontsize=13)\n",
    "_=sns.regplot(ax=axs[1], x=df_rep['PPS'], y=df_rep['rep_prob_neut'], color='#0A9094')\n",
    "_=axs[1].set_ylabel(None)\n",
    "_=axs[1].set_xlabel('Psychosis-proneness score', fontsize=13)\n",
    "\n",
    "# plot repetitive repetition probability and PPS\n",
    "_=axs[2].set_title('Repetitive blocks',fontsize=14)\n",
    "_=plt.text(0.99, 0.99, ('r=%.3f,\\n p=0.015'%pc_repBlocks['r'].values[0]), \n",
    "           ha='right', va='top', transform=axs[2].transAxes, fontsize=13)\n",
    "_=sns.regplot(ax=axs[2], x=df_rep['PPS'], y=df_rep['rep_prob_rep'], color='#0A9094')\n",
    "_=axs[2].set_ylabel(None)\n",
    "_=axs[2].set_xlabel(None)\n",
    "\n",
    "plt.savefig('C:\\\\Users\\\\annae\\\\Dropbox\\\\PhD\\\\aud_vis_paper\\\\svg_files\\\\rep_prob_exp2.svg')"
   ]
  },
  {
   "cell_type": "code",
   "execution_count": 18,
   "metadata": {},
   "outputs": [
    {
     "data": {
      "image/png": "[encoded data removed]",
      "text/plain": [
       "<Figure size 576x432 with 1 Axes>"
      ]
     },
     "metadata": {
      "needs_background": "light"
     },
     "output_type": "display_data"
    }
   ],
   "source": [
    "# Create difference plots between blocks and across PPS \n",
    "df_rep['rep_prob_diff'] = df_rep['rep_prob_rep'] - df_rep['rep_prob_neut']\n",
    "\n",
    "corr_pps = np.corrcoef(df_rep['PPS'], df_rep['rep_prob_diff'])\n",
    "corr_pps = corr_pps[0][1]\n",
    "corr_pps\n",
    "\n",
    "pc_diffBlocks = pg.partial_corr(data=df_rep, x='PPS', y='rep_prob_diff')\n",
    "\n",
    "fig, ax = plt.subplots(1,1)\n",
    "fig.set_figheight(6)\n",
    "fig.set_figwidth(8)\n",
    "plt.title('Experiment 2', fontsize=22)\n",
    "_=sns.regplot(ax=ax, x=df_rep['PPS'], y=df_rep['rep_prob_diff'], color='#579DF2')\n",
    "_=plt.text(-0.87, 0.95, ('r=%.3f,\\n p=0.09'%corr_pps), \n",
    "           ha='right', va='top', transform=axs[2].transAxes, fontsize=18)\n",
    "_=ax.set_ylabel(r'$\\Delta$ repetition probability', fontsize=18)\n",
    "_=ax.set_xlabel(r'Psychosis-proneness score', fontsize=18)\n",
    "\n",
    "plt.savefig('rep_prob_diff_exp2.svg')"
   ]
  },
  {
   "cell_type": "markdown",
   "metadata": {},
   "source": [
    "## Cue conformity"
   ]
  },
  {
   "cell_type": "code",
   "execution_count": 19,
   "metadata": {},
   "outputs": [],
   "source": [
    "# make column for cue conformity\n",
    "df['cue_conf'] = np.nan\n",
    "\n",
    "for index, row in df.iterrows(): \n",
    "    \n",
    "    if row['response'] == row['cue']: \n",
    "        conf = 1\n",
    "        \n",
    "    elif row['response'] != row['cue']: \n",
    "        conf = 0\n",
    "        \n",
    "    df.at[index, 'cue_conf'] = conf\n",
    "    \n",
    "df_rep[['cue_conf', 'cue_conf_neut', 'cue_conf_rep']] = np.nan, np.nan, np.nan   \n",
    "    \n",
    "for sbj_id in subjects:\n",
    "    # get overall repetition probability across blocks\n",
    "    df_sbj = df[df['sbj_id']==sbj_id]\n",
    "    conf_mean = df_sbj['cue_conf'].mean()\n",
    "    \n",
    "    # get repetition probability in repetitive blocks\n",
    "    conf_rep_mean = df_sbj[df_sbj['block_type']==0]['cue_conf'].mean()\n",
    "    \n",
    "    # get repetition probability in neutral blocks\n",
    "    conf_neut_mean = df_sbj[df_sbj['block_type']==1]['cue_conf'].mean()\n",
    "    \n",
    "    # put it in result df\n",
    "    df_rep.at[sbj_id, 'cue_conf'] = conf_mean\n",
    "    df_rep.at[sbj_id, 'cue_conf_rep'] = conf_rep_mean\n",
    "    df_rep.at[sbj_id, 'cue_conf_neut'] = conf_neut_mean\n",
    "    \n",
    "df_rep = df_rep.dropna()"
   ]
  },
  {
   "cell_type": "code",
   "execution_count": 20,
   "metadata": {},
   "outputs": [
    {
     "data": {
      "text/html": [
       "<div>\n",
       "<style scoped>\n",
       "    .dataframe tbody tr th:only-of-type {\n",
       "        vertical-align: middle;\n",
       "    }\n",
       "\n",
       "    .dataframe tbody tr th {\n",
       "        vertical-align: top;\n",
       "    }\n",
       "\n",
       "    .dataframe thead th {\n",
       "        text-align: right;\n",
       "    }\n",
       "</style>\n",
       "<table border=\"1\" class=\"dataframe\">\n",
       "  <thead>\n",
       "    <tr style=\"text-align: right;\">\n",
       "      <th></th>\n",
       "      <th>rep_prob</th>\n",
       "      <th>rep_prob_rep</th>\n",
       "      <th>rep_prob_neut</th>\n",
       "      <th>PPS</th>\n",
       "      <th>performance</th>\n",
       "      <th>rep_prob_diff</th>\n",
       "      <th>cue_conf</th>\n",
       "      <th>cue_conf_neut</th>\n",
       "      <th>cue_conf_rep</th>\n",
       "    </tr>\n",
       "    <tr>\n",
       "      <th>sbj_id</th>\n",
       "      <th></th>\n",
       "      <th></th>\n",
       "      <th></th>\n",
       "      <th></th>\n",
       "      <th></th>\n",
       "      <th></th>\n",
       "      <th></th>\n",
       "      <th></th>\n",
       "      <th></th>\n",
       "    </tr>\n",
       "  </thead>\n",
       "  <tbody>\n",
       "    <tr>\n",
       "      <th>ANE14H</th>\n",
       "      <td>0.609211</td>\n",
       "      <td>0.602632</td>\n",
       "      <td>0.615789</td>\n",
       "      <td>-1.660985</td>\n",
       "      <td>65.526316</td>\n",
       "      <td>-0.013158</td>\n",
       "      <td>0.576316</td>\n",
       "      <td>0.584211</td>\n",
       "      <td>0.568421</td>\n",
       "    </tr>\n",
       "    <tr>\n",
       "      <th>ANR14E</th>\n",
       "      <td>0.482895</td>\n",
       "      <td>0.476316</td>\n",
       "      <td>0.489474</td>\n",
       "      <td>-1.415262</td>\n",
       "      <td>66.842105</td>\n",
       "      <td>-0.013158</td>\n",
       "      <td>0.672368</td>\n",
       "      <td>0.692105</td>\n",
       "      <td>0.652632</td>\n",
       "    </tr>\n",
       "    <tr>\n",
       "      <th>COR10T</th>\n",
       "      <td>0.551316</td>\n",
       "      <td>0.494737</td>\n",
       "      <td>0.607895</td>\n",
       "      <td>-0.290197</td>\n",
       "      <td>78.289474</td>\n",
       "      <td>-0.113158</td>\n",
       "      <td>0.717105</td>\n",
       "      <td>0.752632</td>\n",
       "      <td>0.681579</td>\n",
       "    </tr>\n",
       "    <tr>\n",
       "      <th>DOR31T</th>\n",
       "      <td>0.486842</td>\n",
       "      <td>0.439474</td>\n",
       "      <td>0.534211</td>\n",
       "      <td>0.395197</td>\n",
       "      <td>72.894737</td>\n",
       "      <td>-0.094737</td>\n",
       "      <td>0.603947</td>\n",
       "      <td>0.605263</td>\n",
       "      <td>0.602632</td>\n",
       "    </tr>\n",
       "    <tr>\n",
       "      <th>EVR10T</th>\n",
       "      <td>0.589474</td>\n",
       "      <td>0.534211</td>\n",
       "      <td>0.644737</td>\n",
       "      <td>-1.415262</td>\n",
       "      <td>73.684211</td>\n",
       "      <td>-0.110526</td>\n",
       "      <td>0.635526</td>\n",
       "      <td>0.618421</td>\n",
       "      <td>0.652632</td>\n",
       "    </tr>\n",
       "  </tbody>\n",
       "</table>\n",
       "</div>"
      ],
      "text/plain": [
       "        rep_prob  rep_prob_rep  rep_prob_neut       PPS  performance  \\\n",
       "sbj_id                                                                 \n",
       "ANE14H  0.609211      0.602632       0.615789 -1.660985    65.526316   \n",
       "ANR14E  0.482895      0.476316       0.489474 -1.415262    66.842105   \n",
       "COR10T  0.551316      0.494737       0.607895 -0.290197    78.289474   \n",
       "DOR31T  0.486842      0.439474       0.534211  0.395197    72.894737   \n",
       "EVR10T  0.589474      0.534211       0.644737 -1.415262    73.684211   \n",
       "\n",
       "        rep_prob_diff  cue_conf  cue_conf_neut  cue_conf_rep  \n",
       "sbj_id                                                        \n",
       "ANE14H      -0.013158  0.576316       0.584211      0.568421  \n",
       "ANR14E      -0.013158  0.672368       0.692105      0.652632  \n",
       "COR10T      -0.113158  0.717105       0.752632      0.681579  \n",
       "DOR31T      -0.094737  0.603947       0.605263      0.602632  \n",
       "EVR10T      -0.110526  0.635526       0.618421      0.652632  "
      ]
     },
     "execution_count": 20,
     "metadata": {},
     "output_type": "execute_result"
    }
   ],
   "source": [
    "df_rep.head()"
   ]
  },
  {
   "cell_type": "code",
   "execution_count": 21,
   "metadata": {},
   "outputs": [],
   "source": [
    "# correlate mean cue conformity and PPS in repetitive blocks\n",
    "corr_pps_cue_rep = np.corrcoef(df_rep['PPS'], df_rep['cue_conf_rep'])\n",
    "corr_pps_cue_rep = corr_pps_cue_rep[0][1]\n",
    "\n",
    "# correlate mean repetition prob and PPS in neutral blocks\n",
    "corr_pps_cue_neut = np.corrcoef(df_rep['PPS'], df_rep['cue_conf_neut'])\n",
    "corr_pps_cue_neut = corr_pps_cue_neut[0][1]\n",
    "\n",
    "# correlate overall mean repetition prob and PPS\n",
    "corr_pps_cue = np.corrcoef(df_rep['PPS'], df_rep['cue_conf'])\n",
    "corr_pps_cue = corr_pps_cue[0][1]"
   ]
  },
  {
   "cell_type": "code",
   "execution_count": 22,
   "metadata": {},
   "outputs": [],
   "source": [
    "# partial correlation between PPS and repetition probability but controlled for performance, using pingouin package \n",
    "# create partial correlation: general repetition probability \n",
    "pc_allBlocks = pg.partial_corr(data=df_rep , x='PPS', y='cue_conf', covar='performance')\n",
    "\n",
    "# partial corr: repetitive blocks. \n",
    "pc_repBlocks = pg.partial_corr(data=df_rep, x='PPS', y='cue_conf_rep', covar='performance')\n",
    "\n",
    "# partial corr: neutral blocks\n",
    "pc_neutBlocks = pg.partial_corr(data=df_rep, x='PPS', y='cue_conf_neut', covar='performance')"
   ]
  },
  {
   "cell_type": "code",
   "execution_count": 23,
   "metadata": {},
   "outputs": [
    {
     "name": "stdout",
     "output_type": "stream",
     "text": [
      "Partial correlation between PPS and conformity with cue, controlled for performance.\n",
      "Across block types: \n"
     ]
    },
    {
     "data": {
      "text/html": [
       "<div>\n",
       "<style scoped>\n",
       "    .dataframe tbody tr th:only-of-type {\n",
       "        vertical-align: middle;\n",
       "    }\n",
       "\n",
       "    .dataframe tbody tr th {\n",
       "        vertical-align: top;\n",
       "    }\n",
       "\n",
       "    .dataframe thead th {\n",
       "        text-align: right;\n",
       "    }\n",
       "</style>\n",
       "<table border=\"1\" class=\"dataframe\">\n",
       "  <thead>\n",
       "    <tr style=\"text-align: right;\">\n",
       "      <th></th>\n",
       "      <th>n</th>\n",
       "      <th>r</th>\n",
       "      <th>CI95%</th>\n",
       "      <th>p-val</th>\n",
       "    </tr>\n",
       "  </thead>\n",
       "  <tbody>\n",
       "    <tr>\n",
       "      <th>pearson</th>\n",
       "      <td>41</td>\n",
       "      <td>0.170402</td>\n",
       "      <td>[-0.15, 0.46]</td>\n",
       "      <td>0.29314</td>\n",
       "    </tr>\n",
       "  </tbody>\n",
       "</table>\n",
       "</div>"
      ],
      "text/plain": [
       "          n         r          CI95%    p-val\n",
       "pearson  41  0.170402  [-0.15, 0.46]  0.29314"
      ]
     },
     "metadata": {},
     "output_type": "display_data"
    },
    {
     "name": "stdout",
     "output_type": "stream",
     "text": [
      "Only repetitive blocks: \n"
     ]
    },
    {
     "data": {
      "text/html": [
       "<div>\n",
       "<style scoped>\n",
       "    .dataframe tbody tr th:only-of-type {\n",
       "        vertical-align: middle;\n",
       "    }\n",
       "\n",
       "    .dataframe tbody tr th {\n",
       "        vertical-align: top;\n",
       "    }\n",
       "\n",
       "    .dataframe thead th {\n",
       "        text-align: right;\n",
       "    }\n",
       "</style>\n",
       "<table border=\"1\" class=\"dataframe\">\n",
       "  <thead>\n",
       "    <tr style=\"text-align: right;\">\n",
       "      <th></th>\n",
       "      <th>n</th>\n",
       "      <th>r</th>\n",
       "      <th>CI95%</th>\n",
       "      <th>p-val</th>\n",
       "    </tr>\n",
       "  </thead>\n",
       "  <tbody>\n",
       "    <tr>\n",
       "      <th>pearson</th>\n",
       "      <td>41</td>\n",
       "      <td>0.15602</td>\n",
       "      <td>[-0.16, 0.45]</td>\n",
       "      <td>0.336364</td>\n",
       "    </tr>\n",
       "  </tbody>\n",
       "</table>\n",
       "</div>"
      ],
      "text/plain": [
       "          n        r          CI95%     p-val\n",
       "pearson  41  0.15602  [-0.16, 0.45]  0.336364"
      ]
     },
     "metadata": {},
     "output_type": "display_data"
    },
    {
     "name": "stdout",
     "output_type": "stream",
     "text": [
      "Only neutral blocks: \n"
     ]
    },
    {
     "data": {
      "text/html": [
       "<div>\n",
       "<style scoped>\n",
       "    .dataframe tbody tr th:only-of-type {\n",
       "        vertical-align: middle;\n",
       "    }\n",
       "\n",
       "    .dataframe tbody tr th {\n",
       "        vertical-align: top;\n",
       "    }\n",
       "\n",
       "    .dataframe thead th {\n",
       "        text-align: right;\n",
       "    }\n",
       "</style>\n",
       "<table border=\"1\" class=\"dataframe\">\n",
       "  <thead>\n",
       "    <tr style=\"text-align: right;\">\n",
       "      <th></th>\n",
       "      <th>n</th>\n",
       "      <th>r</th>\n",
       "      <th>CI95%</th>\n",
       "      <th>p-val</th>\n",
       "    </tr>\n",
       "  </thead>\n",
       "  <tbody>\n",
       "    <tr>\n",
       "      <th>pearson</th>\n",
       "      <td>41</td>\n",
       "      <td>0.179241</td>\n",
       "      <td>[-0.14, 0.46]</td>\n",
       "      <td>0.268439</td>\n",
       "    </tr>\n",
       "  </tbody>\n",
       "</table>\n",
       "</div>"
      ],
      "text/plain": [
       "          n         r          CI95%     p-val\n",
       "pearson  41  0.179241  [-0.14, 0.46]  0.268439"
      ]
     },
     "metadata": {},
     "output_type": "display_data"
    }
   ],
   "source": [
    "print('Partial correlation between PPS and conformity with cue, controlled for performance.')\n",
    "print('Across block types: ')\n",
    "display(pc_allBlocks)\n",
    "print('Only repetitive blocks: ')\n",
    "display(pc_repBlocks)\n",
    "print('Only neutral blocks: ')\n",
    "display(pc_neutBlocks)"
   ]
  },
  {
   "cell_type": "code",
   "execution_count": 24,
   "metadata": {},
   "outputs": [
    {
     "data": {
      "image/png": "[encoded data removed]",
      "text/plain": [
       "<Figure size 1080x432 with 3 Axes>"
      ]
     },
     "metadata": {
      "needs_background": "light"
     },
     "output_type": "display_data"
    }
   ],
   "source": [
    "# create some plots on cue conformity next.\n",
    "\n",
    "fig, axs = plt.subplots(1,3, sharey=True)\n",
    "fig.set_figheight(6)\n",
    "fig.set_figwidth(15)\n",
    "\n",
    "plt.suptitle('Experiment 2', fontsize=18)\n",
    "\n",
    "# plot overall mean repetition probability and PPS\n",
    "_=axs[0].set_title('Across block types', fontsize=14)\n",
    "_=sns.regplot(ax=axs[0], x=df_rep['PPS'], y=df_rep['cue_conf'], color='#D96923')\n",
    "_=plt.text(0.99, 0.99, ('r=%f,\\n p>0.05'%pc_allBlocks['r'].values[0]), \n",
    "           ha='right', va='top', transform=axs[0].transAxes, fontsize=13)\n",
    "_=axs[0].set_ylabel('Mean cue conformity', fontsize=13)\n",
    "_=axs[0].set_xlabel(None)\n",
    "\n",
    "# plot neutral mean repetition probability and PPS\n",
    "_=axs[1].set_title('Neutral blocks', fontsize=14)\n",
    "_=sns.regplot(ax=axs[1], x=df_rep['PPS'], y=df_rep['cue_conf_neut'], color='#D96923')\n",
    "_=plt.text(0.99, 0.99, ('r=%f,\\n p>0.05'%pc_neutBlocks['r'].values[0]), \n",
    "           ha='right', va='top', transform=axs[1].transAxes, fontsize=13)\n",
    "_=axs[1].set_xlabel('Psychosis-proneness score', fontsize=13)\n",
    "_=axs[1].set_ylabel(None)\n",
    "\n",
    "# plot repetitive repetition probability and PPS\n",
    "_=axs[2].set_title('Repetitive blocks', fontsize=14)\n",
    "_=sns.regplot(ax=axs[2], x=df_rep['PPS'], y=df_rep['cue_conf_rep'], color='#D96923')\n",
    "_=plt.text(0.99, 0.99, ('r=%f,\\n p>0.05'%pc_repBlocks['r'].values[0]), \n",
    "           ha='right', va='top', transform=axs[2].transAxes, fontsize=13)\n",
    "_=axs[2].set_xlabel(None)\n",
    "_=axs[2].set_ylabel(None)\n",
    "\n",
    "plt.savefig('cue_conf_exp2.svg')"
   ]
  }
 ],
 "metadata": {
  "kernelspec": {
   "display_name": "Python 3",
   "language": "python",
   "name": "python3"
  },
  "language_info": {
   "codemirror_mode": {
    "name": "ipython",
    "version": 3
   },
   "file_extension": ".py",
   "mimetype": "text/x-python",
   "name": "python",
   "nbconvert_exporter": "python",
   "pygments_lexer": "ipython3",
   "version": "3.8.3"
  }
 },
 "nbformat": 4,
 "nbformat_minor": 4
}
