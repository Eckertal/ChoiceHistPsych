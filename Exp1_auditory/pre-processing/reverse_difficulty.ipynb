{
 "cells": [
  {
   "cell_type": "markdown",
   "metadata": {},
   "source": [
    "In the revision of the manuscript, I need to reverse the difficulty variable in the auditory experiment so that it is consistent with the coding of the visual experiment where lower values indicate harder trials, and higher values indicate more easy trials. It now makes sense to speak of \"stimulus evidence\", not difficulty, because higher values indicate higher stimulus evidence across experiments. Need to replace: \n",
    "\n",
    "- diff\n",
    "- diff-1\n",
    "- diff_z\n",
    "- prev_diff_z"
   ]
  },
  {
   "cell_type": "code",
   "execution_count": 1,
   "metadata": {},
   "outputs": [],
   "source": [
    "import os, glob, sys\n",
    "import pandas as pd\n",
    "import seaborn as sns\n",
    "import matplotlib.pyplot as plt\n",
    "import numpy as np\n",
    "\n",
    "#easier df inspection\n",
    "pd.set_option('display.max_rows', 500)\n",
    "pd.set_option('display.max_columns', 200)\n",
    "\n",
    "\n",
    "os.chdir('C:\\\\Users\\\\annae\\\\Desktop\\\\ChoiceHistory_Psych\\\\Data\\\\Exp1_auditory\\\\')\n",
    "df = pd.read_csv('exp1_prevMotor_prevDiff.csv')\n",
    "df['evidence'] = df['diff'].replace({1.0: 6.0, 2.0: 5.0, 3.0: 4.0, 4.0: 3.0, 5.0: 2.0, 6.0:1.0})\n",
    "\n",
    "# previous evidence\n",
    "for index, row in df.iterrows(): \n",
    "    if index == 0: \n",
    "        prev_evidence=1.0\n",
    "    \n",
    "    if index >= 1:\n",
    "        \n",
    "        prev_evidence = df.iloc[index-1]['evidence']\n",
    "        \n",
    "    df.at[index, 'evi-1'] = prev_evidence\n",
    "    \n",
    "# z-standardize both\n",
    "df['evidence_z'] = df['evidence'] - df['evidence'].mean() / df['evidence'].std()\n",
    "df['evi-1_z'] = df['evi-1'] - df['evi-1'].mean() / df['evi-1'].std()"
   ]
  },
  {
   "cell_type": "code",
   "execution_count": 6,
   "metadata": {},
   "outputs": [],
   "source": [
    "df.to_csv('exp1_prevMotor_prevEvidence.csv')"
   ]
  },
  {
   "cell_type": "code",
   "execution_count": null,
   "metadata": {},
   "outputs": [],
   "source": []
  }
 ],
 "metadata": {
  "kernelspec": {
   "display_name": "Python 3",
   "language": "python",
   "name": "python3"
  },
  "language_info": {
   "codemirror_mode": {
    "name": "ipython",
    "version": 3
   },
   "file_extension": ".py",
   "mimetype": "text/x-python",
   "name": "python",
   "nbconvert_exporter": "python",
   "pygments_lexer": "ipython3",
   "version": "3.8.3"
  }
 },
 "nbformat": 4,
 "nbformat_minor": 4
}
