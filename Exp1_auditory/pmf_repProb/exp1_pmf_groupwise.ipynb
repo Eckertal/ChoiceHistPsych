{
 "cells": [
  {
   "cell_type": "markdown",
   "metadata": {},
   "source": [
    "# Group-wise PMF\n",
    "\n",
    "This notebook can be used to reproduce the psychometric functions of data from Experiment 1. \n",
    "\n",
    "created 23.09.2021"
   ]
  },
  {
   "cell_type": "code",
   "execution_count": 1,
   "metadata": {},
   "outputs": [],
   "source": [
    "# import relevant modules\n",
    "import os, sys, glob\n",
    "import pandas as pd\n",
    "import seaborn as sns\n",
    "import numpy as np\n",
    "import matplotlib.pyplot as plt\n",
    "import statsmodels.api as sm\n",
    "import scipy.stats as s\n",
    "import warnings\n",
    "\n",
    "# import specific functions/ classes\n",
    "from scipy.stats import logistic\n",
    "from scipy.optimize import minimize\n",
    "from scipy.stats import pearsonr, spearmanr, kendalltau \n",
    "from scipy.stats import ttest_rel\n",
    "from pathlib import Path\n",
    "\n",
    "# print settings for easier df inspection\n",
    "pd.set_option('display.max_columns', None)\n",
    "pd.set_option('display.max_rows',None)\n",
    "\n",
    "# suppress Jupyter related warnings\n",
    "warnings. filterwarnings(\"ignore\")"
   ]
  },
  {
   "cell_type": "code",
   "execution_count": 2,
   "metadata": {},
   "outputs": [
    {
     "name": "stdout",
     "output_type": "stream",
     "text": [
      "Number of included participants:  113\n"
     ]
    },
    {
     "data": {
      "text/html": [
       "<div>\n",
       "<style scoped>\n",
       "    .dataframe tbody tr th:only-of-type {\n",
       "        vertical-align: middle;\n",
       "    }\n",
       "\n",
       "    .dataframe tbody tr th {\n",
       "        vertical-align: top;\n",
       "    }\n",
       "\n",
       "    .dataframe thead th {\n",
       "        text-align: right;\n",
       "    }\n",
       "</style>\n",
       "<table border=\"1\" class=\"dataframe\">\n",
       "  <thead>\n",
       "    <tr style=\"text-align: right;\">\n",
       "      <th></th>\n",
       "      <th>Unnamed: 0</th>\n",
       "      <th>sbj_id</th>\n",
       "      <th>trial</th>\n",
       "      <th>block_type</th>\n",
       "      <th>block</th>\n",
       "      <th>stimulus</th>\n",
       "      <th>target</th>\n",
       "      <th>response</th>\n",
       "      <th>cue</th>\n",
       "      <th>caps</th>\n",
       "      <th>pdi</th>\n",
       "      <th>resp_1</th>\n",
       "      <th>resp_2</th>\n",
       "      <th>resp_3</th>\n",
       "      <th>resp_4</th>\n",
       "      <th>resp_5</th>\n",
       "      <th>resp_6</th>\n",
       "      <th>resp_7</th>\n",
       "      <th>stim_1</th>\n",
       "      <th>stim_2</th>\n",
       "      <th>stim_3</th>\n",
       "      <th>stim_4</th>\n",
       "      <th>stim_5</th>\n",
       "      <th>stim_6</th>\n",
       "      <th>stim_7</th>\n",
       "    </tr>\n",
       "  </thead>\n",
       "  <tbody>\n",
       "    <tr>\n",
       "      <th>0</th>\n",
       "      <td>0</td>\n",
       "      <td>5e6d3324f14d262fced5bbfe</td>\n",
       "      <td>1</td>\n",
       "      <td>0</td>\n",
       "      <td>1</td>\n",
       "      <td>0.4</td>\n",
       "      <td>1</td>\n",
       "      <td>1</td>\n",
       "      <td>0</td>\n",
       "      <td>5</td>\n",
       "      <td>5</td>\n",
       "      <td>NaN</td>\n",
       "      <td>NaN</td>\n",
       "      <td>NaN</td>\n",
       "      <td>NaN</td>\n",
       "      <td>NaN</td>\n",
       "      <td>NaN</td>\n",
       "      <td>NaN</td>\n",
       "      <td>NaN</td>\n",
       "      <td>NaN</td>\n",
       "      <td>NaN</td>\n",
       "      <td>NaN</td>\n",
       "      <td>NaN</td>\n",
       "      <td>NaN</td>\n",
       "      <td>NaN</td>\n",
       "    </tr>\n",
       "    <tr>\n",
       "      <th>1</th>\n",
       "      <td>1</td>\n",
       "      <td>5e6d3324f14d262fced5bbfe</td>\n",
       "      <td>2</td>\n",
       "      <td>0</td>\n",
       "      <td>1</td>\n",
       "      <td>0.5</td>\n",
       "      <td>1</td>\n",
       "      <td>1</td>\n",
       "      <td>1</td>\n",
       "      <td>5</td>\n",
       "      <td>5</td>\n",
       "      <td>1.0</td>\n",
       "      <td>NaN</td>\n",
       "      <td>NaN</td>\n",
       "      <td>NaN</td>\n",
       "      <td>NaN</td>\n",
       "      <td>NaN</td>\n",
       "      <td>NaN</td>\n",
       "      <td>1.0</td>\n",
       "      <td>NaN</td>\n",
       "      <td>NaN</td>\n",
       "      <td>NaN</td>\n",
       "      <td>NaN</td>\n",
       "      <td>NaN</td>\n",
       "      <td>NaN</td>\n",
       "    </tr>\n",
       "    <tr>\n",
       "      <th>2</th>\n",
       "      <td>2</td>\n",
       "      <td>5e6d3324f14d262fced5bbfe</td>\n",
       "      <td>3</td>\n",
       "      <td>0</td>\n",
       "      <td>1</td>\n",
       "      <td>0.1</td>\n",
       "      <td>1</td>\n",
       "      <td>0</td>\n",
       "      <td>1</td>\n",
       "      <td>5</td>\n",
       "      <td>5</td>\n",
       "      <td>1.0</td>\n",
       "      <td>1.0</td>\n",
       "      <td>NaN</td>\n",
       "      <td>NaN</td>\n",
       "      <td>NaN</td>\n",
       "      <td>NaN</td>\n",
       "      <td>NaN</td>\n",
       "      <td>1.0</td>\n",
       "      <td>1.0</td>\n",
       "      <td>NaN</td>\n",
       "      <td>NaN</td>\n",
       "      <td>NaN</td>\n",
       "      <td>NaN</td>\n",
       "      <td>NaN</td>\n",
       "    </tr>\n",
       "    <tr>\n",
       "      <th>3</th>\n",
       "      <td>3</td>\n",
       "      <td>5e6d3324f14d262fced5bbfe</td>\n",
       "      <td>4</td>\n",
       "      <td>0</td>\n",
       "      <td>1</td>\n",
       "      <td>0.5</td>\n",
       "      <td>1</td>\n",
       "      <td>1</td>\n",
       "      <td>1</td>\n",
       "      <td>5</td>\n",
       "      <td>5</td>\n",
       "      <td>0.0</td>\n",
       "      <td>1.0</td>\n",
       "      <td>1.0</td>\n",
       "      <td>NaN</td>\n",
       "      <td>NaN</td>\n",
       "      <td>NaN</td>\n",
       "      <td>NaN</td>\n",
       "      <td>1.0</td>\n",
       "      <td>1.0</td>\n",
       "      <td>1.0</td>\n",
       "      <td>NaN</td>\n",
       "      <td>NaN</td>\n",
       "      <td>NaN</td>\n",
       "      <td>NaN</td>\n",
       "    </tr>\n",
       "    <tr>\n",
       "      <th>4</th>\n",
       "      <td>4</td>\n",
       "      <td>5e6d3324f14d262fced5bbfe</td>\n",
       "      <td>5</td>\n",
       "      <td>0</td>\n",
       "      <td>1</td>\n",
       "      <td>0.1</td>\n",
       "      <td>1</td>\n",
       "      <td>1</td>\n",
       "      <td>1</td>\n",
       "      <td>5</td>\n",
       "      <td>5</td>\n",
       "      <td>1.0</td>\n",
       "      <td>0.0</td>\n",
       "      <td>1.0</td>\n",
       "      <td>1.0</td>\n",
       "      <td>NaN</td>\n",
       "      <td>NaN</td>\n",
       "      <td>NaN</td>\n",
       "      <td>1.0</td>\n",
       "      <td>1.0</td>\n",
       "      <td>1.0</td>\n",
       "      <td>1.0</td>\n",
       "      <td>NaN</td>\n",
       "      <td>NaN</td>\n",
       "      <td>NaN</td>\n",
       "    </tr>\n",
       "  </tbody>\n",
       "</table>\n",
       "</div>"
      ],
      "text/plain": [
       "   Unnamed: 0                    sbj_id  trial  block_type  block  stimulus  \\\n",
       "0           0  5e6d3324f14d262fced5bbfe      1           0      1       0.4   \n",
       "1           1  5e6d3324f14d262fced5bbfe      2           0      1       0.5   \n",
       "2           2  5e6d3324f14d262fced5bbfe      3           0      1       0.1   \n",
       "3           3  5e6d3324f14d262fced5bbfe      4           0      1       0.5   \n",
       "4           4  5e6d3324f14d262fced5bbfe      5           0      1       0.1   \n",
       "\n",
       "   target  response  cue  caps  pdi  resp_1  resp_2  resp_3  resp_4  resp_5  \\\n",
       "0       1         1    0     5    5     NaN     NaN     NaN     NaN     NaN   \n",
       "1       1         1    1     5    5     1.0     NaN     NaN     NaN     NaN   \n",
       "2       1         0    1     5    5     1.0     1.0     NaN     NaN     NaN   \n",
       "3       1         1    1     5    5     0.0     1.0     1.0     NaN     NaN   \n",
       "4       1         1    1     5    5     1.0     0.0     1.0     1.0     NaN   \n",
       "\n",
       "   resp_6  resp_7  stim_1  stim_2  stim_3  stim_4  stim_5  stim_6  stim_7  \n",
       "0     NaN     NaN     NaN     NaN     NaN     NaN     NaN     NaN     NaN  \n",
       "1     NaN     NaN     1.0     NaN     NaN     NaN     NaN     NaN     NaN  \n",
       "2     NaN     NaN     1.0     1.0     NaN     NaN     NaN     NaN     NaN  \n",
       "3     NaN     NaN     1.0     1.0     1.0     NaN     NaN     NaN     NaN  \n",
       "4     NaN     NaN     1.0     1.0     1.0     1.0     NaN     NaN     NaN  "
      ]
     },
     "execution_count": 2,
     "metadata": {},
     "output_type": "execute_result"
    }
   ],
   "source": [
    "# change into folder that contains data. For optimal functioning, \n",
    "# download data folder into ChoiceHistory_Psych folder and name it \"Data\"\n",
    "path = os.getcwd()\n",
    "p = Path(path).parents[1]\n",
    "file_path = str(p) + '\\\\Data\\\\Exp1_auditory\\\\'\n",
    "os.chdir(file_path)\n",
    "\n",
    "# read pre-processed datafile and check how many participants are included\n",
    "df = pd.read_csv('exp1_clean_pmf.csv')\n",
    "subjects = list(df['sbj_id'].unique())\n",
    "print('Number of included participants: ',len(subjects))\n",
    "df.head()"
   ]
  },
  {
   "cell_type": "code",
   "execution_count": 3,
   "metadata": {},
   "outputs": [],
   "source": [
    "# define a PMF\n",
    "def fit_PMF(df): \n",
    "    \n",
    "    choices = df.loc[:,'response'].values\n",
    "    stimuli = df.loc[:,'stimulus'].values\n",
    "    \n",
    "    def minfun(params): \n",
    "        noise,bias = params\n",
    "        cp= 1 / (1 + np.exp(-(stimuli - bias) / noise))\n",
    "        model_p = cp * (choices==1) + (1-cp) * (choices==0)\n",
    "        return -np.sum(np.log(np.maximum(1e-2,model_p)))\n",
    "     \n",
    "    noise,bias = minimize(minfun,[1,1],bounds=[(1e-2,0.4),(-10,10)]).x\n",
    "    \n",
    "    return bias, noise"
   ]
  },
  {
   "cell_type": "code",
   "execution_count": 7,
   "metadata": {},
   "outputs": [],
   "source": [
    "choices = df.loc[:,'response'].values"
   ]
  },
  {
   "cell_type": "code",
   "execution_count": 8,
   "metadata": {},
   "outputs": [
    {
     "data": {
      "text/plain": [
       "array([1, 1, 0, ..., 0, 1, 1], dtype=int64)"
      ]
     },
     "execution_count": 8,
     "metadata": {},
     "output_type": "execute_result"
    }
   ],
   "source": [
    "choices"
   ]
  },
  {
   "cell_type": "code",
   "execution_count": 4,
   "metadata": {},
   "outputs": [],
   "source": [
    "# separate datafile: repetitive and neutral conditions, onto which we fit separate PMFs. \n",
    "# we need 4 dataframes: neut_left, neut_right, rep_left, rep_right.\n",
    "# neutral blocks\n",
    "neut_left = df[(df['block_type']==1) & (df['resp_1']==1)]\n",
    "neut_right = df[(df['block_type']==1) & (df['resp_1']==0)]\n",
    "# repetitive blocks\n",
    "rep_left = df[(df['block_type']==0) & (df['resp_1']==1)]\n",
    "rep_right = df[(df['block_type']==0) & (df['resp_1']==0)]\n",
    "\n",
    "\n",
    "# get repetitive params\n",
    "bias_rep_right, noise_rep_right = fit_PMF(rep_right)\n",
    "bias_rep_left, noise_rep_left = fit_PMF(rep_left)\n",
    "# get neutral params\n",
    "bias_neut_right, noise_neut_right = fit_PMF(neut_right)\n",
    "bias_neut_left, noise_neut_left = fit_PMF(neut_left)"
   ]
  },
  {
   "cell_type": "code",
   "execution_count": 10,
   "metadata": {},
   "outputs": [
    {
     "data": {
      "text/plain": [
       "Ttest_relResult(statistic=0.8444859589575713, pvalue=0.4001981690577723)"
      ]
     },
     "execution_count": 10,
     "metadata": {},
     "output_type": "execute_result"
    }
   ],
   "source": [
    "# ttest shows no significant shift in neutral cond\n",
    "ttest_rel(neut_right.groupby('sbj_id').response.mean(), neut_left.groupby('sbj_id').response.mean())"
   ]
  },
  {
   "cell_type": "code",
   "execution_count": 6,
   "metadata": {},
   "outputs": [
    {
     "data": {
      "text/plain": [
       "Ttest_relResult(statistic=-19.805138375322862, pvalue=2.1785846405478733e-38)"
      ]
     },
     "execution_count": 6,
     "metadata": {},
     "output_type": "execute_result"
    }
   ],
   "source": [
    "# ttest in repetitive condition: we have a significant shift here. \n",
    "ttest_rel(rep_right.groupby('sbj_id').response.mean(), rep_left.groupby('sbj_id').response.mean(), nan_policy='omit')"
   ]
  },
  {
   "cell_type": "code",
   "execution_count": 7,
   "metadata": {},
   "outputs": [],
   "source": [
    "def plot_PMF(bias_l, noise_l, bias_r, noise_r, ax, choices_l, stimuli_l, choices_r, stimuli_r):\n",
    "\n",
    "    x = np.arange(-1,1,0.1)\n",
    "    \n",
    "    # logistic func\n",
    "    logis = lambda x, beta, bias: 1/(1+np.exp(-(x-bias)/beta))\n",
    "    \n",
    "    # gefittete oder empirical PMF fitten? \n",
    "    # Daten ohne log fit plotten und schauen: sind die Daten schon log? \n",
    "    \n",
    "    # prev_left\n",
    "    ax.plot(x, logis(x, noise_l, bias_l), label='previous left',color='#0A9094')\n",
    "    threshold_l = np.interp(0.0, x, logis(x,noise_l,bias_l))\n",
    "    \n",
    "    # prev right\n",
    "    ax.plot(x, logis(x, noise_r, bias_r), label='previous right',color='#D96923')\n",
    "    threshold_r = np.interp(0.0, x, logis(x,noise_r,bias_r))\n",
    "    \n",
    "    # orienting lines\n",
    "    ax.plot([0, 0], [-0.02, 1.02], 'k-', alpha=0.4)\n",
    "    ax.plot([-1, 1], [0.5, 0.5], 'k-', alpha=0.4) \n",
    "    \n",
    "    # plot data frequencies\n",
    "    for v in [-0.6,-0.5,-0.4,-0.3,-0.2,-0.1,0.1,0.2,0.3,0.4,0.5,0.6]: \n",
    "        ax.plot(v, np.mean(choices_l[stimuli_l == v] == 1),'o', color='#0A9094',alpha=0.6)\n",
    "        ax.plot(v, np.mean(choices_r[stimuli_r == v] == 1),'*', color='#D96923',alpha=0.6)\n",
    "    \n",
    "    plt.suptitle('Experiment 1', fontsize=18)\n",
    "    \n",
    "    plt.xlim([-1, 1]) #-0.65, 0.65 \n",
    "    plt.xticks(np.arange(-1, 1, 0.5))\n",
    "    ax.legend(loc='best')\n",
    "    fig.show()"
   ]
  },
  {
   "cell_type": "code",
   "execution_count": 8,
   "metadata": {},
   "outputs": [],
   "source": [
    "# choices and stimuli in the neutral blocks (for plotting of data frequency)\n",
    "choices_l_n = neut_left.loc[:, 'response'].values   \n",
    "stimuli_l_n = neut_left.loc[:, 'stimulus'].values\n",
    "choices_r_n = neut_right.loc[:, 'response'].values\n",
    "stimuli_r_n = neut_right.loc[:, 'stimulus'].values\n",
    "\n",
    "# chocies and stimuli in repetitive blocks\n",
    "choices_l_r = rep_left.loc[:, 'response'].values\n",
    "stimuli_l_r = rep_left.loc[:, 'stimulus'].values\n",
    "choices_r_r = rep_right.loc[:, 'response'].values\n",
    "stimuli_r_r = rep_right.loc[:, 'stimulus'].values"
   ]
  },
  {
   "cell_type": "code",
   "execution_count": 9,
   "metadata": {},
   "outputs": [
    {
     "data": {
      "image/png": "[encoded data removed]",
      "text/plain": [
       "<Figure size 720x288 with 2 Axes>"
      ]
     },
     "metadata": {
      "needs_background": "light"
     },
     "output_type": "display_data"
    }
   ],
   "source": [
    "fig, (ax1, ax2) = plt.subplots(1,2,sharey=True,figsize=(10,4))\n",
    "\n",
    "plot_PMF(bias_neut_left, noise_neut_left, bias_neut_right, noise_neut_right, ax1, choices_l_n, stimuli_l_n, choices_r_n, stimuli_r_n)\n",
    "ax1.title.set_text('neutral blocks')\n",
    "plot_PMF(bias_rep_left, noise_rep_left, bias_rep_right, noise_rep_right, ax2, choices_l_r, stimuli_l_r, choices_r_r, stimuli_r_r)\n",
    "ax2.title.set_text('repetitive blocks')\n",
    "\n",
    "_ = fig.text(0.5,0.01, 'Evidence strength' , ha='center', fontsize=13)\n",
    "_ = fig.text(0.05, 0.5, 'P(choice=left)', va='center',rotation='vertical', fontsize=13)\n",
    "\n",
    "#save as HQ svg file\n",
    "plt.savefig('pmf_groupwise_exp1.svg')"
   ]
  }
 ],
 "metadata": {
  "kernelspec": {
   "display_name": "Python 3",
   "language": "python",
   "name": "python3"
  },
  "language_info": {
   "codemirror_mode": {
    "name": "ipython",
    "version": 3
   },
   "file_extension": ".py",
   "mimetype": "text/x-python",
   "name": "python",
   "nbconvert_exporter": "python",
   "pygments_lexer": "ipython3",
   "version": "3.8.3"
  }
 },
 "nbformat": 4,
 "nbformat_minor": 4
}
