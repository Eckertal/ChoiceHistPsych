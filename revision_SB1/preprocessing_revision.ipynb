{
 "cells": [
  {
   "cell_type": "markdown",
   "metadata": {},
   "source": [
    "# Some extra pre-processing for additional analysis\n",
    "\n",
    "(c) Anna-Lena Eckert\n",
    "\n",
    "As part of our revision, we show in additional analyses: \n",
    "\n",
    "- The effects of previous motor response\n",
    "- The effects of previous trial difficulty\n",
    "- Only easy trials vs. only hard trials\n",
    "\n",
    "This requires some slightly adjusted datafiles that can be reproduced with this notebook. "
   ]
  },
  {
   "cell_type": "code",
   "execution_count": 1,
   "metadata": {},
   "outputs": [],
   "source": [
    "import os, glob, sys\n",
    "import pandas as pd\n",
    "import seaborn as sns\n",
    "import matplotlib.pyplot as plt\n",
    "import numpy as np\n",
    "\n",
    "#easier df inspection\n",
    "pd.set_option('display.max_rows', 500)\n",
    "pd.set_option('display.max_columns', 200)"
   ]
  },
  {
   "cell_type": "code",
   "execution_count": 2,
   "metadata": {},
   "outputs": [
    {
     "name": "stdout",
     "output_type": "stream",
     "text": [
      "Experiment 1 included:  113\n",
      "Experiment 2 included:  41\n"
     ]
    }
   ],
   "source": [
    "# get experimental data to get only included ppl\n",
    "os.chdir('C:\\\\Users\\\\annae\\\\Desktop\\\\ChoiceHistory_Psych\\\\Data\\\\Exp1_auditory')\n",
    "df_exp1 = pd.read_csv('exp1_model1_REV.csv') # REV contains motor response - 0 for upper button, 1 for lower button\n",
    "\n",
    "sbj_exp1 = list(df_exp1['sbj_id'].unique())\n",
    "print('Experiment 1 included: ',len(sbj_exp1))\n",
    "\n",
    "os.chdir('C:\\\\Users\\\\annae\\\\Desktop\\\\ChoiceHistory_Psych\\\\Data\\\\Exp2_visual')\n",
    "df_exp2 = pd.read_csv('exp2_model1_visual.csv')\n",
    "\n",
    "sbj_exp2 = list(df_exp2['sbj_id'].unique())\n",
    "print('Experiment 2 included: ',len(sbj_exp2))"
   ]
  },
  {
   "cell_type": "code",
   "execution_count": 11,
   "metadata": {},
   "outputs": [],
   "source": [
    "# create new column with previous motor response\n",
    "df_exp2['motor-1'] = np.nan\n",
    "df_exp2['diff-1'] = np.nan\n",
    "\n",
    "for index, row in df_exp2.iterrows(): \n",
    "    if index == 0: \n",
    "        prev_motor=0\n",
    "        prev_diff=0\n",
    "    \n",
    "    if index >= 1:\n",
    "        \n",
    "        prev_motor = df_exp2.iloc[index-1]['response_key']\n",
    "        prev_diff = df_exp2.iloc[index-1]['diff']\n",
    "        \n",
    "    df_exp2.at[index, 'motor-1'] = prev_motor\n",
    "    df_exp2.at[index, 'diff-1'] = prev_diff\n",
    "        \n",
    "        \n",
    "# drop NaNs from beginning of experiment\n",
    "df_exp2 = df_exp2.dropna()\n",
    "\n",
    "# z-standardize prev mot\n",
    "df_exp2['prev_mot_z'] = df_exp2['motor-1'] - df_exp2['motor-1'].mean() / df_exp2['motor-1'].std()\n",
    "df_exp2['prev_diff_z'] = df_exp2['diff-1'] - df_exp2['diff-1'].mean() / df_exp2['diff-1'].std()\n",
    "\n",
    "# drop missed\n",
    "df_exp2.drop(df_exp2[df_exp2['correct']==99].index, inplace=True)\n",
    "\n",
    "df_exp2.to_csv('exp2_prevMotor_prevDiff.csv')"
   ]
  },
  {
   "cell_type": "markdown",
   "metadata": {},
   "source": [
    "## Experiment 1\n"
   ]
  },
  {
   "cell_type": "code",
   "execution_count": 13,
   "metadata": {},
   "outputs": [],
   "source": [
    "# create new column with previous motor response\n",
    "df_exp1['motor-1'] = np.nan\n",
    "df_exp1['diff-1'] = np.nan\n",
    "\n",
    "for index, row in df_exp1.iterrows(): \n",
    "    if index == 0: \n",
    "        prev_motor=0\n",
    "        prev_diff=0\n",
    "    \n",
    "    if index >= 1:\n",
    "        \n",
    "        prev_motor = df_exp1.iloc[index-1]['motor']\n",
    "        prev_diff = df_exp1.iloc[index-1]['diff']\n",
    "        \n",
    "    df_exp1.at[index, 'motor-1'] = prev_motor\n",
    "    df_exp1.at[index, 'diff-1'] = prev_diff\n",
    "        \n",
    "        \n",
    "# drop NaNs from beginning of experiment\n",
    "df_exp1 = df_exp1.dropna()\n",
    "\n",
    "# z-standardize prev mot and prev diff\n",
    "df_exp1['prev_mot_z'] = df_exp1['motor-1'] - df_exp1['motor-1'].mean() / df_exp1['motor-1'].std()\n",
    "df_exp1['prev_diff_z'] = df_exp1['diff-1'] - df_exp1['diff-1'].mean() / df_exp1['diff-1'].std()\n",
    "\n",
    "# insert correct col\n",
    "df_exp1['correct'] = df_exp1['target'] == df_exp1['response']\n",
    "\n",
    "df_exp1.to_csv('exp1_prevMotor_prevDiff.csv')"
   ]
  },
  {
   "cell_type": "markdown",
   "metadata": {},
   "source": [
    "# Create split dataset: preceded by easy/ hard trials"
   ]
  },
  {
   "cell_type": "code",
   "execution_count": 14,
   "metadata": {},
   "outputs": [],
   "source": [
    "# Diff is 1 (easy) - 6 (hard)\n",
    "easy = sorted(df_exp1['diff-1'].unique())[1:4]\n",
    "hard = sorted(df_exp1['diff-1'].unique())[4:]\n",
    "\n",
    "# create subsets of dataframes that were PRECEDED by hard or easy trials\n",
    "exp1_easy = df_exp1[df_exp1['diff-1'].isin(easy)]\n",
    "exp1_hard = df_exp1[df_exp1['diff-1'].isin(hard)]\n",
    "\n",
    "exp1_easy.to_csv('exp1_precedingTrialEasy.csv')\n",
    "exp1_hard.to_csv('exp1_precedingTrialHard.csv')"
   ]
  },
  {
   "cell_type": "code",
   "execution_count": 15,
   "metadata": {},
   "outputs": [],
   "source": [
    "# 1 easy, 6 hard. \n",
    "easy = sorted(df_exp2['diff-1'].unique())[1:4]\n",
    "hard = sorted(df_exp2['diff-1'].unique())[4:]\n",
    "\n",
    "# create subsets...\n",
    "exp2_easy = df_exp2[df_exp2['diff-1'].isin(easy)]\n",
    "exp2_hard = df_exp2[df_exp2['diff-1'].isin(hard)]\n",
    "\n",
    "#write into csv\n",
    "exp2_easy.to_csv('exp2_precedingTrialEasy.csv')\n",
    "exp2_hard.to_csv('exp2_precedingTrialHard.csv')"
   ]
  },
  {
   "cell_type": "code",
   "execution_count": 16,
   "metadata": {},
   "outputs": [
    {
     "name": "stdout",
     "output_type": "stream",
     "text": [
      "0.7184509665403634\n",
      "0.726844988720593\n"
     ]
    }
   ],
   "source": [
    "print(exp2_easy['correct'].mean())\n",
    "print(exp2_hard['correct'].mean())"
   ]
  },
  {
   "cell_type": "code",
   "execution_count": null,
   "metadata": {},
   "outputs": [],
   "source": []
  }
 ],
 "metadata": {
  "kernelspec": {
   "display_name": "Python 3",
   "language": "python",
   "name": "python3"
  },
  "language_info": {
   "codemirror_mode": {
    "name": "ipython",
    "version": 3
   },
   "file_extension": ".py",
   "mimetype": "text/x-python",
   "name": "python",
   "nbconvert_exporter": "python",
   "pygments_lexer": "ipython3",
   "version": "3.8.3"
  }
 },
 "nbformat": 4,
 "nbformat_minor": 4
}
