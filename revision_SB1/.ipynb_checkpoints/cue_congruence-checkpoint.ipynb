{
 "cells": [
  {
   "cell_type": "markdown",
   "metadata": {},
   "source": [
    "# Cue congruency over blocks? \n",
    "\n",
    "Do people learn to rely on the cue congruency more or less over blocks?"
   ]
  },
  {
   "cell_type": "code",
   "execution_count": 1,
   "metadata": {},
   "outputs": [],
   "source": [
    "import os, glob, sys\n",
    "import pandas as pd\n",
    "import seaborn as sns\n",
    "import matplotlib.pyplot as plt\n",
    "import numpy as np\n",
    "\n",
    "#easier df inspection\n",
    "pd.set_option('display.max_rows', 500)\n",
    "pd.set_option('display.max_columns', 200)"
   ]
  },
  {
   "cell_type": "code",
   "execution_count": 2,
   "metadata": {},
   "outputs": [],
   "source": [
    "os.chdir('C:\\\\Users\\\\annae\\\\Desktop\\\\ChoiceHistory_Psych\\\\Data\\\\Exp1_auditory\\\\')\n",
    "df_aud = pd.read_csv('exp1_prevMotor_prevEvidence.csv')\n",
    "\n",
    "df_aud['cue_congruent'] = df_aud['response'] == df_aud['cue']\n",
    "df_aud['cue_congruent'] = df_aud['cue_congruent'].replace({True: 1.0, False: 0.0})"
   ]
  },
  {
   "cell_type": "code",
   "execution_count": 3,
   "metadata": {},
   "outputs": [],
   "source": [
    "blocks = list(df_aud['block'].unique())\n",
    "subjects_aud = list(df_aud['sbj_id'].unique())\n",
    "\n",
    "congr = pd.DataFrame(columns = [1.0, 2.0, 3.0, 4.0, 5.0, 6.0, 7.0, 8.0])\n",
    "\n",
    "for sbj in subjects_aud:\n",
    "    df_sbj = df_aud[df_aud['sbj_id']==sbj]\n",
    "    for block in blocks: \n",
    "        df_block = df_sbj[df_sbj['block']==block]\n",
    "        \n",
    "        cue_cong = df_block['cue_congruent'].sum() / df_block.shape[0] *100\n",
    "        \n",
    "        congr.at[sbj, block] = cue_cong"
   ]
  },
  {
   "cell_type": "code",
   "execution_count": 4,
   "metadata": {},
   "outputs": [],
   "source": [
    "means = dict()\n",
    "for block in blocks: \n",
    "    means[block] = congr[block].mean()"
   ]
  },
  {
   "cell_type": "code",
   "execution_count": 5,
   "metadata": {},
   "outputs": [
    {
     "data": {
      "text/plain": [
       "{1.0: 66.20222180380337,\n",
       " 2.0: 66.74041297935102,\n",
       " 3.0: 66.81415929203541,\n",
       " 4.0: 66.7957227138643,\n",
       " 5.0: 67.40412979351032,\n",
       " 6.0: 67.95722713864306,\n",
       " 7.0: 68.2890855457227,\n",
       " 8.0: 67.46734091866837}"
      ]
     },
     "execution_count": 5,
     "metadata": {},
     "output_type": "execute_result"
    }
   ],
   "source": [
    "means"
   ]
  },
  {
   "cell_type": "code",
   "execution_count": 6,
   "metadata": {},
   "outputs": [
    {
     "data": {
      "text/plain": [
       "<matplotlib.collections.PathCollection at 0x1fcc88dfb80>"
      ]
     },
     "execution_count": 6,
     "metadata": {},
     "output_type": "execute_result"
    },
    {
     "data": {
      "image/png": "[encoded data removed]",
      "text/plain": [
       "<Figure size 576x360 with 1 Axes>"
      ]
     },
     "metadata": {
      "needs_background": "light"
     },
     "output_type": "display_data"
    }
   ],
   "source": [
    "plt.figure(figsize=(8,5))\n",
    "plt.title('Exp. 1, average cue congruency across blocks')\n",
    "plt.ylim(0,100)\n",
    "plt.xlabel('Block')\n",
    "plt.ylabel('Cue congruency [%]')\n",
    "plt.plot(means.keys(),means.values(), color='magenta')\n",
    "plt.scatter(means.keys(), means.values())"
   ]
  },
  {
   "cell_type": "code",
   "execution_count": 7,
   "metadata": {},
   "outputs": [],
   "source": [
    "# visual data\n",
    "os.chdir('C:\\\\Users\\\\annae\\\\Desktop\\\\ChoiceHistory_Psych\\\\Data\\\\Exp2_visual\\\\')\n",
    "df_vis = pd.read_csv('exp2_prevMotor_prevDiff.csv')\n",
    "\n",
    "df_vis['cue_congruent'] = df_vis['response'] == df_vis['cue']\n",
    "df_vis['cue_congruent'] = df_vis['cue_congruent'].replace({True: 1.0, False: 0.0})"
   ]
  },
  {
   "cell_type": "code",
   "execution_count": 8,
   "metadata": {},
   "outputs": [
    {
     "name": "stderr",
     "output_type": "stream",
     "text": [
      "<ipython-input-8-696ccfa12fac>:11: RuntimeWarning: invalid value encountered in double_scalars\n",
      "  cue_cong = df_block['cue_congruent'].sum() / df_block.shape[0] *100\n",
      "<ipython-input-8-696ccfa12fac>:11: RuntimeWarning: invalid value encountered in double_scalars\n",
      "  cue_cong = df_block['cue_congruent'].sum() / df_block.shape[0] *100\n",
      "<ipython-input-8-696ccfa12fac>:11: RuntimeWarning: invalid value encountered in double_scalars\n",
      "  cue_cong = df_block['cue_congruent'].sum() / df_block.shape[0] *100\n",
      "<ipython-input-8-696ccfa12fac>:11: RuntimeWarning: invalid value encountered in double_scalars\n",
      "  cue_cong = df_block['cue_congruent'].sum() / df_block.shape[0] *100\n",
      "<ipython-input-8-696ccfa12fac>:11: RuntimeWarning: invalid value encountered in double_scalars\n",
      "  cue_cong = df_block['cue_congruent'].sum() / df_block.shape[0] *100\n",
      "<ipython-input-8-696ccfa12fac>:11: RuntimeWarning: invalid value encountered in double_scalars\n",
      "  cue_cong = df_block['cue_congruent'].sum() / df_block.shape[0] *100\n",
      "<ipython-input-8-696ccfa12fac>:11: RuntimeWarning: invalid value encountered in double_scalars\n",
      "  cue_cong = df_block['cue_congruent'].sum() / df_block.shape[0] *100\n",
      "<ipython-input-8-696ccfa12fac>:11: RuntimeWarning: invalid value encountered in double_scalars\n",
      "  cue_cong = df_block['cue_congruent'].sum() / df_block.shape[0] *100\n",
      "<ipython-input-8-696ccfa12fac>:11: RuntimeWarning: invalid value encountered in double_scalars\n",
      "  cue_cong = df_block['cue_congruent'].sum() / df_block.shape[0] *100\n",
      "<ipython-input-8-696ccfa12fac>:11: RuntimeWarning: invalid value encountered in double_scalars\n",
      "  cue_cong = df_block['cue_congruent'].sum() / df_block.shape[0] *100\n",
      "<ipython-input-8-696ccfa12fac>:11: RuntimeWarning: invalid value encountered in double_scalars\n",
      "  cue_cong = df_block['cue_congruent'].sum() / df_block.shape[0] *100\n",
      "<ipython-input-8-696ccfa12fac>:11: RuntimeWarning: invalid value encountered in double_scalars\n",
      "  cue_cong = df_block['cue_congruent'].sum() / df_block.shape[0] *100\n",
      "<ipython-input-8-696ccfa12fac>:11: RuntimeWarning: invalid value encountered in double_scalars\n",
      "  cue_cong = df_block['cue_congruent'].sum() / df_block.shape[0] *100\n",
      "<ipython-input-8-696ccfa12fac>:11: RuntimeWarning: invalid value encountered in double_scalars\n",
      "  cue_cong = df_block['cue_congruent'].sum() / df_block.shape[0] *100\n",
      "<ipython-input-8-696ccfa12fac>:11: RuntimeWarning: invalid value encountered in double_scalars\n",
      "  cue_cong = df_block['cue_congruent'].sum() / df_block.shape[0] *100\n",
      "<ipython-input-8-696ccfa12fac>:11: RuntimeWarning: invalid value encountered in double_scalars\n",
      "  cue_cong = df_block['cue_congruent'].sum() / df_block.shape[0] *100\n",
      "<ipython-input-8-696ccfa12fac>:11: RuntimeWarning: invalid value encountered in double_scalars\n",
      "  cue_cong = df_block['cue_congruent'].sum() / df_block.shape[0] *100\n",
      "<ipython-input-8-696ccfa12fac>:11: RuntimeWarning: invalid value encountered in double_scalars\n",
      "  cue_cong = df_block['cue_congruent'].sum() / df_block.shape[0] *100\n",
      "<ipython-input-8-696ccfa12fac>:11: RuntimeWarning: invalid value encountered in double_scalars\n",
      "  cue_cong = df_block['cue_congruent'].sum() / df_block.shape[0] *100\n",
      "<ipython-input-8-696ccfa12fac>:11: RuntimeWarning: invalid value encountered in double_scalars\n",
      "  cue_cong = df_block['cue_congruent'].sum() / df_block.shape[0] *100\n",
      "<ipython-input-8-696ccfa12fac>:11: RuntimeWarning: invalid value encountered in double_scalars\n",
      "  cue_cong = df_block['cue_congruent'].sum() / df_block.shape[0] *100\n",
      "<ipython-input-8-696ccfa12fac>:11: RuntimeWarning: invalid value encountered in double_scalars\n",
      "  cue_cong = df_block['cue_congruent'].sum() / df_block.shape[0] *100\n",
      "<ipython-input-8-696ccfa12fac>:11: RuntimeWarning: invalid value encountered in double_scalars\n",
      "  cue_cong = df_block['cue_congruent'].sum() / df_block.shape[0] *100\n",
      "<ipython-input-8-696ccfa12fac>:11: RuntimeWarning: invalid value encountered in double_scalars\n",
      "  cue_cong = df_block['cue_congruent'].sum() / df_block.shape[0] *100\n",
      "<ipython-input-8-696ccfa12fac>:11: RuntimeWarning: invalid value encountered in double_scalars\n",
      "  cue_cong = df_block['cue_congruent'].sum() / df_block.shape[0] *100\n",
      "<ipython-input-8-696ccfa12fac>:11: RuntimeWarning: invalid value encountered in double_scalars\n",
      "  cue_cong = df_block['cue_congruent'].sum() / df_block.shape[0] *100\n",
      "<ipython-input-8-696ccfa12fac>:11: RuntimeWarning: invalid value encountered in double_scalars\n",
      "  cue_cong = df_block['cue_congruent'].sum() / df_block.shape[0] *100\n",
      "<ipython-input-8-696ccfa12fac>:11: RuntimeWarning: invalid value encountered in double_scalars\n",
      "  cue_cong = df_block['cue_congruent'].sum() / df_block.shape[0] *100\n",
      "<ipython-input-8-696ccfa12fac>:11: RuntimeWarning: invalid value encountered in double_scalars\n",
      "  cue_cong = df_block['cue_congruent'].sum() / df_block.shape[0] *100\n",
      "<ipython-input-8-696ccfa12fac>:11: RuntimeWarning: invalid value encountered in double_scalars\n",
      "  cue_cong = df_block['cue_congruent'].sum() / df_block.shape[0] *100\n",
      "<ipython-input-8-696ccfa12fac>:11: RuntimeWarning: invalid value encountered in double_scalars\n",
      "  cue_cong = df_block['cue_congruent'].sum() / df_block.shape[0] *100\n",
      "<ipython-input-8-696ccfa12fac>:11: RuntimeWarning: invalid value encountered in double_scalars\n",
      "  cue_cong = df_block['cue_congruent'].sum() / df_block.shape[0] *100\n",
      "<ipython-input-8-696ccfa12fac>:11: RuntimeWarning: invalid value encountered in double_scalars\n",
      "  cue_cong = df_block['cue_congruent'].sum() / df_block.shape[0] *100\n",
      "<ipython-input-8-696ccfa12fac>:11: RuntimeWarning: invalid value encountered in double_scalars\n",
      "  cue_cong = df_block['cue_congruent'].sum() / df_block.shape[0] *100\n",
      "<ipython-input-8-696ccfa12fac>:11: RuntimeWarning: invalid value encountered in double_scalars\n",
      "  cue_cong = df_block['cue_congruent'].sum() / df_block.shape[0] *100\n",
      "<ipython-input-8-696ccfa12fac>:11: RuntimeWarning: invalid value encountered in double_scalars\n",
      "  cue_cong = df_block['cue_congruent'].sum() / df_block.shape[0] *100\n",
      "<ipython-input-8-696ccfa12fac>:11: RuntimeWarning: invalid value encountered in double_scalars\n",
      "  cue_cong = df_block['cue_congruent'].sum() / df_block.shape[0] *100\n",
      "<ipython-input-8-696ccfa12fac>:11: RuntimeWarning: invalid value encountered in double_scalars\n",
      "  cue_cong = df_block['cue_congruent'].sum() / df_block.shape[0] *100\n",
      "<ipython-input-8-696ccfa12fac>:11: RuntimeWarning: invalid value encountered in double_scalars\n",
      "  cue_cong = df_block['cue_congruent'].sum() / df_block.shape[0] *100\n",
      "<ipython-input-8-696ccfa12fac>:11: RuntimeWarning: invalid value encountered in double_scalars\n",
      "  cue_cong = df_block['cue_congruent'].sum() / df_block.shape[0] *100\n",
      "<ipython-input-8-696ccfa12fac>:11: RuntimeWarning: invalid value encountered in double_scalars\n",
      "  cue_cong = df_block['cue_congruent'].sum() / df_block.shape[0] *100\n"
     ]
    }
   ],
   "source": [
    "blocks = list(df_vis['Block'].unique())\n",
    "subjects_vis = list(df_vis['sbj_id'].unique())\n",
    "\n",
    "congr = pd.DataFrame(columns = [0.0, 1.0, 2.0, 3.0, 4.0, 5.0, 6.0, 7.0, 8.0])\n",
    "\n",
    "for sbj in subjects_vis:\n",
    "    df_sbj = df_vis[df_vis['sbj_id']==sbj]\n",
    "    for block in blocks: \n",
    "        df_block = df_sbj[df_sbj['Block']==block]\n",
    "        \n",
    "        cue_cong = df_block['cue_congruent'].sum() / df_block.shape[0] *100\n",
    "        \n",
    "        congr.at[sbj, block] = cue_cong\n",
    "        \n",
    "means = dict()\n",
    "for block in blocks: \n",
    "    means[block] = congr[block].mean()\n",
    "    \n",
    "removed_value = means.pop(0)"
   ]
  },
  {
   "cell_type": "code",
   "execution_count": 9,
   "metadata": {},
   "outputs": [
    {
     "data": {
      "text/plain": [
       "<matplotlib.collections.PathCollection at 0x1fce9bb9f10>"
      ]
     },
     "execution_count": 9,
     "metadata": {},
     "output_type": "execute_result"
    },
    {
     "data": {
      "image/png": "[encoded data removed]",
      "text/plain": [
       "<Figure size 576x360 with 1 Axes>"
      ]
     },
     "metadata": {
      "needs_background": "light"
     },
     "output_type": "display_data"
    }
   ],
   "source": [
    "plt.figure(figsize=(8,5))\n",
    "plt.title('Exp. 2, average cue congruency across blocks')\n",
    "plt.ylim(0,100)\n",
    "plt.xlabel('Block')\n",
    "plt.ylabel('Cue congruency [%]')\n",
    "plt.plot(means.keys(),means.values())\n",
    "plt.scatter(means.keys(), means.values(), color='magenta')"
   ]
  },
  {
   "cell_type": "code",
   "execution_count": 10,
   "metadata": {},
   "outputs": [
    {
     "data": {
      "text/plain": [
       "{1: 69.74145398096184,\n",
       " 2: 68.13284524940796,\n",
       " 3: 67.34990365367246,\n",
       " 4: 68.17114139786415,\n",
       " 5: 67.57922732362823,\n",
       " 6: 67.4040256123123,\n",
       " 7: 67.20452028475005,\n",
       " 8: 69.28166276004536}"
      ]
     },
     "execution_count": 10,
     "metadata": {},
     "output_type": "execute_result"
    }
   ],
   "source": [
    "means"
   ]
  },
  {
   "cell_type": "markdown",
   "metadata": {},
   "source": [
    "# Cue congruency index"
   ]
  },
  {
   "cell_type": "code",
   "execution_count": 11,
   "metadata": {},
   "outputs": [
    {
     "name": "stdout",
     "output_type": "stream",
     "text": [
      "Mean CCI:  32.15879370690912\n",
      "Min CCI:  17.853832442067727\n",
      "Max CCI:  62.98359640978025\n"
     ]
    },
    {
     "data": {
      "text/plain": [
       "Text(0.5, 1.0, 'Experiment 1')"
      ]
     },
     "execution_count": 11,
     "metadata": {},
     "output_type": "execute_result"
    },
    {
     "data": {
      "image/png": "[encoded data removed]",
      "text/plain": [
       "<Figure size 720x360 with 1 Axes>"
      ]
     },
     "metadata": {
      "needs_background": "light"
     },
     "output_type": "display_data"
    }
   ],
   "source": [
    "# Experiment 1\n",
    "df_aud['correct'] = df_aud['correct'].replace({True:1.0, False:0.0})\n",
    "\n",
    "cuecon_sbj = pd.DataFrame(columns=['sbj_id', 'cci'])\n",
    "\n",
    "def compute_cci(df):\n",
    "    \n",
    "    df_cc = df[df['cue_congruent']==1.0]\n",
    "    df_ci = df[df['cue_congruent']==0.0]\n",
    "    \n",
    "    perc_corr_cc = df_cc['correct'].sum() / df_cc['correct'].shape[0] * 100\n",
    "    perc_corr_ci = df_ci['correct'].sum() / df_ci['correct'].shape[0] * 100\n",
    "    \n",
    "    cci = perc_corr_cc - perc_corr_ci\n",
    "    \n",
    "    return cci\n",
    "\n",
    "for sbj in subjects_aud: \n",
    "    \n",
    "    df_sbj = df_aud[df_aud['sbj_id'] == sbj]\n",
    "    \n",
    "    cci_aud = compute_cci(df_sbj)\n",
    "    \n",
    "    case = pd.DataFrame({'sbj_id': [sbj], 'cci': [cci_aud]})\n",
    "    cuecon_sbj = pd.concat([cuecon_sbj, case])\n",
    "\n",
    "cci_sorted = list(cuecon_sbj['cci'].sort_values())\n",
    "\n",
    "print('Mean CCI: ', cuecon_sbj['cci'].mean())\n",
    "print('Min CCI: ', min(cci_sorted))\n",
    "print('Max CCI: ', max(cci_sorted))\n",
    "\n",
    "\n",
    "plt.figure(figsize=(10,5))\n",
    "\n",
    "for index, value in enumerate(cci_sorted): \n",
    "    plt.bar(index, value, color='orangered')\n",
    "plt.xlabel('subject',fontsize=15)\n",
    "plt.xticks(None)\n",
    "plt.ylabel('CCI',fontsize=15)\n",
    "plt.title('Experiment 1',fontsize=20)"
   ]
  },
  {
   "cell_type": "code",
   "execution_count": 12,
   "metadata": {},
   "outputs": [
    {
     "data": {
      "text/plain": [
       "<matplotlib.collections.PathCollection at 0x1fce9e6b250>"
      ]
     },
     "execution_count": 12,
     "metadata": {},
     "output_type": "execute_result"
    },
    {
     "data": {
      "image/png": "[encoded data removed]",
      "text/plain": [
       "<Figure size 576x360 with 1 Axes>"
      ]
     },
     "metadata": {
      "needs_background": "light"
     },
     "output_type": "display_data"
    }
   ],
   "source": [
    "# block wise CCI Exp 1. \n",
    "blocks = list(df_aud['block'].unique())\n",
    "congr = pd.DataFrame(columns = [1.0, 2.0, 3.0, 4.0, 5.0, 6.0, 7.0, 8.0])\n",
    "\n",
    "for sbj in subjects_aud: \n",
    "    \n",
    "    df_sbj = df_aud[df_aud['sbj_id']==sbj]\n",
    "    \n",
    "    for block in blocks: \n",
    "        df_block = df_sbj[df_sbj['block']==block]\n",
    "        \n",
    "        cci_block = compute_cci(df_block)\n",
    "        \n",
    "        congr.at[sbj, block] = cci_block\n",
    "\n",
    "\n",
    "means = dict()\n",
    "for block in blocks: \n",
    "    means[block] = congr[block].mean()\n",
    "    \n",
    "    \n",
    "plt.figure(figsize=(8,5))\n",
    "plt.title('Exp. 1, average CCI across blocks')\n",
    "plt.ylim(0,100)\n",
    "plt.xlabel('Block')\n",
    "plt.ylabel('CCI')\n",
    "plt.plot(means.keys(),means.values())\n",
    "plt.scatter(means.keys(), means.values(), color='red')\n",
    "    "
   ]
  },
  {
   "cell_type": "code",
   "execution_count": 13,
   "metadata": {},
   "outputs": [
    {
     "name": "stdout",
     "output_type": "stream",
     "text": [
      "Mean CCI: 39.05927698836516\n",
      "Min CCI:  2.9330381848367324\n",
      "Max CCI:  69.1237630861896\n"
     ]
    },
    {
     "data": {
      "text/plain": [
       "Text(0.5, 1.0, 'Experiment 2')"
      ]
     },
     "execution_count": 13,
     "metadata": {},
     "output_type": "execute_result"
    },
    {
     "data": {
      "image/png": "[encoded data removed]",
      "text/plain": [
       "<Figure size 720x360 with 1 Axes>"
      ]
     },
     "metadata": {
      "needs_background": "light"
     },
     "output_type": "display_data"
    }
   ],
   "source": [
    "# Experiment 2\n",
    "\n",
    "cuecon_sbj_vis = pd.DataFrame(columns=['sbj_id', 'cci'])\n",
    "\n",
    "for sbj in subjects_vis: \n",
    "    \n",
    "    df_sbj = df_vis[df_vis['sbj_id'] == sbj]\n",
    "    \n",
    "    cci_vis = compute_cci(df_sbj)\n",
    "    \n",
    "    case = pd.DataFrame({'sbj_id': [sbj], 'cci': [cci_vis]})\n",
    "    cuecon_sbj_vis = pd.concat([cuecon_sbj_vis, case])\n",
    "\n",
    "cci_sorted_vis = list(cuecon_sbj_vis['cci'].sort_values())\n",
    "\n",
    "print('Mean CCI:', cuecon_sbj_vis['cci'].mean())\n",
    "print('Min CCI: ', min(cci_sorted_vis))\n",
    "print('Max CCI: ', max(cci_sorted_vis))\n",
    "\n",
    "\n",
    "\n",
    "plt.figure(figsize=(10,5))\n",
    "\n",
    "for index, value in enumerate(cci_sorted_vis): \n",
    "    plt.bar(index, value, color='deepskyblue')\n",
    "    \n",
    "plt.xlabel('subject',fontsize=15)\n",
    "plt.xticks(None)\n",
    "plt.ylabel('CCI',fontsize=15)\n",
    "plt.title('Experiment 2',fontsize=20)"
   ]
  },
  {
   "cell_type": "code",
   "execution_count": 14,
   "metadata": {},
   "outputs": [
    {
     "name": "stderr",
     "output_type": "stream",
     "text": [
      "<ipython-input-11-efbf0ee6bb83>:11: RuntimeWarning: invalid value encountered in longlong_scalars\n",
      "  perc_corr_cc = df_cc['correct'].sum() / df_cc['correct'].shape[0] * 100\n",
      "<ipython-input-11-efbf0ee6bb83>:12: RuntimeWarning: invalid value encountered in longlong_scalars\n",
      "  perc_corr_ci = df_ci['correct'].sum() / df_ci['correct'].shape[0] * 100\n",
      "<ipython-input-11-efbf0ee6bb83>:11: RuntimeWarning: invalid value encountered in longlong_scalars\n",
      "  perc_corr_cc = df_cc['correct'].sum() / df_cc['correct'].shape[0] * 100\n",
      "<ipython-input-11-efbf0ee6bb83>:12: RuntimeWarning: invalid value encountered in longlong_scalars\n",
      "  perc_corr_ci = df_ci['correct'].sum() / df_ci['correct'].shape[0] * 100\n",
      "<ipython-input-11-efbf0ee6bb83>:11: RuntimeWarning: invalid value encountered in longlong_scalars\n",
      "  perc_corr_cc = df_cc['correct'].sum() / df_cc['correct'].shape[0] * 100\n",
      "<ipython-input-11-efbf0ee6bb83>:12: RuntimeWarning: invalid value encountered in longlong_scalars\n",
      "  perc_corr_ci = df_ci['correct'].sum() / df_ci['correct'].shape[0] * 100\n",
      "<ipython-input-11-efbf0ee6bb83>:11: RuntimeWarning: invalid value encountered in longlong_scalars\n",
      "  perc_corr_cc = df_cc['correct'].sum() / df_cc['correct'].shape[0] * 100\n",
      "<ipython-input-11-efbf0ee6bb83>:12: RuntimeWarning: invalid value encountered in longlong_scalars\n",
      "  perc_corr_ci = df_ci['correct'].sum() / df_ci['correct'].shape[0] * 100\n",
      "<ipython-input-11-efbf0ee6bb83>:11: RuntimeWarning: invalid value encountered in longlong_scalars\n",
      "  perc_corr_cc = df_cc['correct'].sum() / df_cc['correct'].shape[0] * 100\n",
      "<ipython-input-11-efbf0ee6bb83>:12: RuntimeWarning: invalid value encountered in longlong_scalars\n",
      "  perc_corr_ci = df_ci['correct'].sum() / df_ci['correct'].shape[0] * 100\n",
      "<ipython-input-11-efbf0ee6bb83>:11: RuntimeWarning: invalid value encountered in longlong_scalars\n",
      "  perc_corr_cc = df_cc['correct'].sum() / df_cc['correct'].shape[0] * 100\n",
      "<ipython-input-11-efbf0ee6bb83>:12: RuntimeWarning: invalid value encountered in longlong_scalars\n",
      "  perc_corr_ci = df_ci['correct'].sum() / df_ci['correct'].shape[0] * 100\n",
      "<ipython-input-11-efbf0ee6bb83>:11: RuntimeWarning: invalid value encountered in longlong_scalars\n",
      "  perc_corr_cc = df_cc['correct'].sum() / df_cc['correct'].shape[0] * 100\n",
      "<ipython-input-11-efbf0ee6bb83>:12: RuntimeWarning: invalid value encountered in longlong_scalars\n",
      "  perc_corr_ci = df_ci['correct'].sum() / df_ci['correct'].shape[0] * 100\n",
      "<ipython-input-11-efbf0ee6bb83>:11: RuntimeWarning: invalid value encountered in longlong_scalars\n",
      "  perc_corr_cc = df_cc['correct'].sum() / df_cc['correct'].shape[0] * 100\n",
      "<ipython-input-11-efbf0ee6bb83>:12: RuntimeWarning: invalid value encountered in longlong_scalars\n",
      "  perc_corr_ci = df_ci['correct'].sum() / df_ci['correct'].shape[0] * 100\n",
      "<ipython-input-11-efbf0ee6bb83>:11: RuntimeWarning: invalid value encountered in longlong_scalars\n",
      "  perc_corr_cc = df_cc['correct'].sum() / df_cc['correct'].shape[0] * 100\n",
      "<ipython-input-11-efbf0ee6bb83>:12: RuntimeWarning: invalid value encountered in longlong_scalars\n",
      "  perc_corr_ci = df_ci['correct'].sum() / df_ci['correct'].shape[0] * 100\n",
      "<ipython-input-11-efbf0ee6bb83>:11: RuntimeWarning: invalid value encountered in longlong_scalars\n",
      "  perc_corr_cc = df_cc['correct'].sum() / df_cc['correct'].shape[0] * 100\n",
      "<ipython-input-11-efbf0ee6bb83>:12: RuntimeWarning: invalid value encountered in longlong_scalars\n",
      "  perc_corr_ci = df_ci['correct'].sum() / df_ci['correct'].shape[0] * 100\n",
      "<ipython-input-11-efbf0ee6bb83>:11: RuntimeWarning: invalid value encountered in longlong_scalars\n",
      "  perc_corr_cc = df_cc['correct'].sum() / df_cc['correct'].shape[0] * 100\n",
      "<ipython-input-11-efbf0ee6bb83>:12: RuntimeWarning: invalid value encountered in longlong_scalars\n",
      "  perc_corr_ci = df_ci['correct'].sum() / df_ci['correct'].shape[0] * 100\n",
      "<ipython-input-11-efbf0ee6bb83>:11: RuntimeWarning: invalid value encountered in longlong_scalars\n",
      "  perc_corr_cc = df_cc['correct'].sum() / df_cc['correct'].shape[0] * 100\n",
      "<ipython-input-11-efbf0ee6bb83>:12: RuntimeWarning: invalid value encountered in longlong_scalars\n",
      "  perc_corr_ci = df_ci['correct'].sum() / df_ci['correct'].shape[0] * 100\n",
      "<ipython-input-11-efbf0ee6bb83>:11: RuntimeWarning: invalid value encountered in longlong_scalars\n",
      "  perc_corr_cc = df_cc['correct'].sum() / df_cc['correct'].shape[0] * 100\n",
      "<ipython-input-11-efbf0ee6bb83>:12: RuntimeWarning: invalid value encountered in longlong_scalars\n",
      "  perc_corr_ci = df_ci['correct'].sum() / df_ci['correct'].shape[0] * 100\n",
      "<ipython-input-11-efbf0ee6bb83>:11: RuntimeWarning: invalid value encountered in longlong_scalars\n",
      "  perc_corr_cc = df_cc['correct'].sum() / df_cc['correct'].shape[0] * 100\n",
      "<ipython-input-11-efbf0ee6bb83>:12: RuntimeWarning: invalid value encountered in longlong_scalars\n",
      "  perc_corr_ci = df_ci['correct'].sum() / df_ci['correct'].shape[0] * 100\n",
      "<ipython-input-11-efbf0ee6bb83>:11: RuntimeWarning: invalid value encountered in longlong_scalars\n",
      "  perc_corr_cc = df_cc['correct'].sum() / df_cc['correct'].shape[0] * 100\n",
      "<ipython-input-11-efbf0ee6bb83>:12: RuntimeWarning: invalid value encountered in longlong_scalars\n",
      "  perc_corr_ci = df_ci['correct'].sum() / df_ci['correct'].shape[0] * 100\n",
      "<ipython-input-11-efbf0ee6bb83>:11: RuntimeWarning: invalid value encountered in longlong_scalars\n",
      "  perc_corr_cc = df_cc['correct'].sum() / df_cc['correct'].shape[0] * 100\n",
      "<ipython-input-11-efbf0ee6bb83>:12: RuntimeWarning: invalid value encountered in longlong_scalars\n",
      "  perc_corr_ci = df_ci['correct'].sum() / df_ci['correct'].shape[0] * 100\n",
      "<ipython-input-11-efbf0ee6bb83>:11: RuntimeWarning: invalid value encountered in longlong_scalars\n",
      "  perc_corr_cc = df_cc['correct'].sum() / df_cc['correct'].shape[0] * 100\n",
      "<ipython-input-11-efbf0ee6bb83>:12: RuntimeWarning: invalid value encountered in longlong_scalars\n",
      "  perc_corr_ci = df_ci['correct'].sum() / df_ci['correct'].shape[0] * 100\n",
      "<ipython-input-11-efbf0ee6bb83>:11: RuntimeWarning: invalid value encountered in longlong_scalars\n",
      "  perc_corr_cc = df_cc['correct'].sum() / df_cc['correct'].shape[0] * 100\n",
      "<ipython-input-11-efbf0ee6bb83>:12: RuntimeWarning: invalid value encountered in longlong_scalars\n",
      "  perc_corr_ci = df_ci['correct'].sum() / df_ci['correct'].shape[0] * 100\n",
      "<ipython-input-11-efbf0ee6bb83>:11: RuntimeWarning: invalid value encountered in longlong_scalars\n",
      "  perc_corr_cc = df_cc['correct'].sum() / df_cc['correct'].shape[0] * 100\n",
      "<ipython-input-11-efbf0ee6bb83>:12: RuntimeWarning: invalid value encountered in longlong_scalars\n",
      "  perc_corr_ci = df_ci['correct'].sum() / df_ci['correct'].shape[0] * 100\n",
      "<ipython-input-11-efbf0ee6bb83>:11: RuntimeWarning: invalid value encountered in longlong_scalars\n",
      "  perc_corr_cc = df_cc['correct'].sum() / df_cc['correct'].shape[0] * 100\n",
      "<ipython-input-11-efbf0ee6bb83>:12: RuntimeWarning: invalid value encountered in longlong_scalars\n",
      "  perc_corr_ci = df_ci['correct'].sum() / df_ci['correct'].shape[0] * 100\n",
      "<ipython-input-11-efbf0ee6bb83>:11: RuntimeWarning: invalid value encountered in longlong_scalars\n",
      "  perc_corr_cc = df_cc['correct'].sum() / df_cc['correct'].shape[0] * 100\n",
      "<ipython-input-11-efbf0ee6bb83>:12: RuntimeWarning: invalid value encountered in longlong_scalars\n",
      "  perc_corr_ci = df_ci['correct'].sum() / df_ci['correct'].shape[0] * 100\n",
      "<ipython-input-11-efbf0ee6bb83>:11: RuntimeWarning: invalid value encountered in longlong_scalars\n",
      "  perc_corr_cc = df_cc['correct'].sum() / df_cc['correct'].shape[0] * 100\n",
      "<ipython-input-11-efbf0ee6bb83>:12: RuntimeWarning: invalid value encountered in longlong_scalars\n",
      "  perc_corr_ci = df_ci['correct'].sum() / df_ci['correct'].shape[0] * 100\n",
      "<ipython-input-11-efbf0ee6bb83>:11: RuntimeWarning: invalid value encountered in longlong_scalars\n",
      "  perc_corr_cc = df_cc['correct'].sum() / df_cc['correct'].shape[0] * 100\n",
      "<ipython-input-11-efbf0ee6bb83>:12: RuntimeWarning: invalid value encountered in longlong_scalars\n",
      "  perc_corr_ci = df_ci['correct'].sum() / df_ci['correct'].shape[0] * 100\n",
      "<ipython-input-11-efbf0ee6bb83>:11: RuntimeWarning: invalid value encountered in longlong_scalars\n",
      "  perc_corr_cc = df_cc['correct'].sum() / df_cc['correct'].shape[0] * 100\n",
      "<ipython-input-11-efbf0ee6bb83>:12: RuntimeWarning: invalid value encountered in longlong_scalars\n",
      "  perc_corr_ci = df_ci['correct'].sum() / df_ci['correct'].shape[0] * 100\n",
      "<ipython-input-11-efbf0ee6bb83>:11: RuntimeWarning: invalid value encountered in longlong_scalars\n",
      "  perc_corr_cc = df_cc['correct'].sum() / df_cc['correct'].shape[0] * 100\n",
      "<ipython-input-11-efbf0ee6bb83>:12: RuntimeWarning: invalid value encountered in longlong_scalars\n",
      "  perc_corr_ci = df_ci['correct'].sum() / df_ci['correct'].shape[0] * 100\n",
      "<ipython-input-11-efbf0ee6bb83>:11: RuntimeWarning: invalid value encountered in longlong_scalars\n",
      "  perc_corr_cc = df_cc['correct'].sum() / df_cc['correct'].shape[0] * 100\n",
      "<ipython-input-11-efbf0ee6bb83>:12: RuntimeWarning: invalid value encountered in longlong_scalars\n",
      "  perc_corr_ci = df_ci['correct'].sum() / df_ci['correct'].shape[0] * 100\n",
      "<ipython-input-11-efbf0ee6bb83>:11: RuntimeWarning: invalid value encountered in longlong_scalars\n",
      "  perc_corr_cc = df_cc['correct'].sum() / df_cc['correct'].shape[0] * 100\n",
      "<ipython-input-11-efbf0ee6bb83>:12: RuntimeWarning: invalid value encountered in longlong_scalars\n",
      "  perc_corr_ci = df_ci['correct'].sum() / df_ci['correct'].shape[0] * 100\n",
      "<ipython-input-11-efbf0ee6bb83>:11: RuntimeWarning: invalid value encountered in longlong_scalars\n",
      "  perc_corr_cc = df_cc['correct'].sum() / df_cc['correct'].shape[0] * 100\n",
      "<ipython-input-11-efbf0ee6bb83>:12: RuntimeWarning: invalid value encountered in longlong_scalars\n",
      "  perc_corr_ci = df_ci['correct'].sum() / df_ci['correct'].shape[0] * 100\n",
      "<ipython-input-11-efbf0ee6bb83>:11: RuntimeWarning: invalid value encountered in longlong_scalars\n",
      "  perc_corr_cc = df_cc['correct'].sum() / df_cc['correct'].shape[0] * 100\n",
      "<ipython-input-11-efbf0ee6bb83>:12: RuntimeWarning: invalid value encountered in longlong_scalars\n",
      "  perc_corr_ci = df_ci['correct'].sum() / df_ci['correct'].shape[0] * 100\n",
      "<ipython-input-11-efbf0ee6bb83>:11: RuntimeWarning: invalid value encountered in longlong_scalars\n",
      "  perc_corr_cc = df_cc['correct'].sum() / df_cc['correct'].shape[0] * 100\n",
      "<ipython-input-11-efbf0ee6bb83>:12: RuntimeWarning: invalid value encountered in longlong_scalars\n",
      "  perc_corr_ci = df_ci['correct'].sum() / df_ci['correct'].shape[0] * 100\n",
      "<ipython-input-11-efbf0ee6bb83>:11: RuntimeWarning: invalid value encountered in longlong_scalars\n",
      "  perc_corr_cc = df_cc['correct'].sum() / df_cc['correct'].shape[0] * 100\n",
      "<ipython-input-11-efbf0ee6bb83>:12: RuntimeWarning: invalid value encountered in longlong_scalars\n",
      "  perc_corr_ci = df_ci['correct'].sum() / df_ci['correct'].shape[0] * 100\n",
      "<ipython-input-11-efbf0ee6bb83>:11: RuntimeWarning: invalid value encountered in longlong_scalars\n",
      "  perc_corr_cc = df_cc['correct'].sum() / df_cc['correct'].shape[0] * 100\n",
      "<ipython-input-11-efbf0ee6bb83>:12: RuntimeWarning: invalid value encountered in longlong_scalars\n",
      "  perc_corr_ci = df_ci['correct'].sum() / df_ci['correct'].shape[0] * 100\n",
      "<ipython-input-11-efbf0ee6bb83>:11: RuntimeWarning: invalid value encountered in longlong_scalars\n",
      "  perc_corr_cc = df_cc['correct'].sum() / df_cc['correct'].shape[0] * 100\n",
      "<ipython-input-11-efbf0ee6bb83>:12: RuntimeWarning: invalid value encountered in longlong_scalars\n",
      "  perc_corr_ci = df_ci['correct'].sum() / df_ci['correct'].shape[0] * 100\n",
      "<ipython-input-11-efbf0ee6bb83>:12: RuntimeWarning: invalid value encountered in longlong_scalars\n",
      "  perc_corr_ci = df_ci['correct'].sum() / df_ci['correct'].shape[0] * 100\n",
      "<ipython-input-11-efbf0ee6bb83>:11: RuntimeWarning: invalid value encountered in longlong_scalars\n",
      "  perc_corr_cc = df_cc['correct'].sum() / df_cc['correct'].shape[0] * 100\n",
      "<ipython-input-11-efbf0ee6bb83>:11: RuntimeWarning: invalid value encountered in longlong_scalars\n",
      "  perc_corr_cc = df_cc['correct'].sum() / df_cc['correct'].shape[0] * 100\n",
      "<ipython-input-11-efbf0ee6bb83>:12: RuntimeWarning: invalid value encountered in longlong_scalars\n",
      "  perc_corr_ci = df_ci['correct'].sum() / df_ci['correct'].shape[0] * 100\n",
      "<ipython-input-11-efbf0ee6bb83>:11: RuntimeWarning: invalid value encountered in longlong_scalars\n",
      "  perc_corr_cc = df_cc['correct'].sum() / df_cc['correct'].shape[0] * 100\n",
      "<ipython-input-11-efbf0ee6bb83>:12: RuntimeWarning: invalid value encountered in longlong_scalars\n",
      "  perc_corr_ci = df_ci['correct'].sum() / df_ci['correct'].shape[0] * 100\n",
      "<ipython-input-11-efbf0ee6bb83>:11: RuntimeWarning: invalid value encountered in longlong_scalars\n",
      "  perc_corr_cc = df_cc['correct'].sum() / df_cc['correct'].shape[0] * 100\n",
      "<ipython-input-11-efbf0ee6bb83>:12: RuntimeWarning: invalid value encountered in longlong_scalars\n",
      "  perc_corr_ci = df_ci['correct'].sum() / df_ci['correct'].shape[0] * 100\n",
      "<ipython-input-11-efbf0ee6bb83>:11: RuntimeWarning: invalid value encountered in longlong_scalars\n",
      "  perc_corr_cc = df_cc['correct'].sum() / df_cc['correct'].shape[0] * 100\n",
      "<ipython-input-11-efbf0ee6bb83>:12: RuntimeWarning: invalid value encountered in longlong_scalars\n",
      "  perc_corr_ci = df_ci['correct'].sum() / df_ci['correct'].shape[0] * 100\n",
      "<ipython-input-11-efbf0ee6bb83>:11: RuntimeWarning: invalid value encountered in longlong_scalars\n",
      "  perc_corr_cc = df_cc['correct'].sum() / df_cc['correct'].shape[0] * 100\n",
      "<ipython-input-11-efbf0ee6bb83>:12: RuntimeWarning: invalid value encountered in longlong_scalars\n",
      "  perc_corr_ci = df_ci['correct'].sum() / df_ci['correct'].shape[0] * 100\n",
      "<ipython-input-11-efbf0ee6bb83>:11: RuntimeWarning: invalid value encountered in longlong_scalars\n",
      "  perc_corr_cc = df_cc['correct'].sum() / df_cc['correct'].shape[0] * 100\n",
      "<ipython-input-11-efbf0ee6bb83>:12: RuntimeWarning: invalid value encountered in longlong_scalars\n",
      "  perc_corr_ci = df_ci['correct'].sum() / df_ci['correct'].shape[0] * 100\n",
      "<ipython-input-11-efbf0ee6bb83>:11: RuntimeWarning: invalid value encountered in longlong_scalars\n",
      "  perc_corr_cc = df_cc['correct'].sum() / df_cc['correct'].shape[0] * 100\n",
      "<ipython-input-11-efbf0ee6bb83>:12: RuntimeWarning: invalid value encountered in longlong_scalars\n",
      "  perc_corr_ci = df_ci['correct'].sum() / df_ci['correct'].shape[0] * 100\n"
     ]
    },
    {
     "data": {
      "text/plain": [
       "<matplotlib.collections.PathCollection at 0x1fce9fa1ac0>"
      ]
     },
     "execution_count": 14,
     "metadata": {},
     "output_type": "execute_result"
    },
    {
     "data": {
      "image/png": "[encoded data removed]",
      "text/plain": [
       "<Figure size 576x360 with 1 Axes>"
      ]
     },
     "metadata": {
      "needs_background": "light"
     },
     "output_type": "display_data"
    }
   ],
   "source": [
    "# block wise CCI Exp 1. \n",
    "blocks = list(df_vis['Block'].unique())\n",
    "congr = pd.DataFrame(columns = [1.0, 2.0, 3.0, 4.0, 5.0, 6.0, 7.0, 8.0])\n",
    "\n",
    "for sbj in subjects_vis: \n",
    "    \n",
    "    df_sbj = df_vis[df_vis['sbj_id']==sbj]\n",
    "    \n",
    "    for block in blocks: \n",
    "        df_block = df_sbj[df_sbj['Block']==block]\n",
    "        \n",
    "        cci_block = compute_cci(df_block)\n",
    "        \n",
    "        congr.at[sbj, block] = cci_block\n",
    "\n",
    "\n",
    "means = dict()\n",
    "for block in blocks: \n",
    "    means[block] = congr[block].mean()\n",
    "    \n",
    "removed = means.pop(0)\n",
    "    \n",
    "    \n",
    "plt.figure(figsize=(8,5))\n",
    "plt.title('Exp. 2, average CCI across blocks')\n",
    "plt.ylim(0,100)\n",
    "plt.xlabel('Block')\n",
    "plt.ylabel('CCI')\n",
    "plt.plot(means.keys(),means.values())\n",
    "plt.scatter(means.keys(), means.values(), color='red')\n",
    "    "
   ]
  },
  {
   "cell_type": "code",
   "execution_count": null,
   "metadata": {},
   "outputs": [],
   "source": []
  }
 ],
 "metadata": {
  "kernelspec": {
   "display_name": "Python 3",
   "language": "python",
   "name": "python3"
  },
  "language_info": {
   "codemirror_mode": {
    "name": "ipython",
    "version": 3
   },
   "file_extension": ".py",
   "mimetype": "text/x-python",
   "name": "python",
   "nbconvert_exporter": "python",
   "pygments_lexer": "ipython3",
   "version": "3.8.3"
  }
 },
 "nbformat": 4,
 "nbformat_minor": 4
}
