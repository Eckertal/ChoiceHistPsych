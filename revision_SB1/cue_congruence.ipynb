{
 "cells": [
  {
   "cell_type": "markdown",
   "metadata": {},
   "source": [
    "# Cue congruency over blocks? \n",
    "\n",
    "Do people learn to rely on the cue congruency more or less over blocks?"
   ]
  },
  {
   "cell_type": "code",
   "execution_count": 1,
   "metadata": {},
   "outputs": [],
   "source": [
    "import os, glob, sys\n",
    "import pandas as pd\n",
    "import seaborn as sns\n",
    "import matplotlib.pyplot as plt\n",
    "import numpy as np\n",
    "\n",
    "#easier df inspection\n",
    "pd.set_option('display.max_rows', 500)\n",
    "pd.set_option('display.max_columns', 200)"
   ]
  },
  {
   "cell_type": "code",
   "execution_count": 2,
   "metadata": {},
   "outputs": [],
   "source": [
    "os.chdir('C:\\\\Users\\\\annae\\\\Desktop\\\\ChoiceHistory_Psych\\\\Data\\\\Exp1_auditory\\\\')\n",
    "df = pd.read_csv('exp1_prevMotor_prevEvidence.csv')\n",
    "\n",
    "df['cue_congruent'] = df['response'] == df['cue']\n",
    "df['cue_congruent'] = df['cue_congruent'].replace({True: 1.0, False: 0.0})"
   ]
  },
  {
   "cell_type": "code",
   "execution_count": 3,
   "metadata": {},
   "outputs": [],
   "source": [
    "blocks = list(df['block'].unique())\n",
    "subjects = list(df['sbj_id'].unique())\n",
    "\n",
    "congr = pd.DataFrame(columns = [1.0, 2.0, 3.0, 4.0, 5.0, 6.0, 7.0, 8.0])\n",
    "\n",
    "for sbj in subjects:\n",
    "    df_sbj = df[df['sbj_id']==sbj]\n",
    "    for block in blocks: \n",
    "        df_block = df_sbj[df_sbj['block']==block]\n",
    "        \n",
    "        cue_cong = df_block['cue_congruent'].sum() / df_block.shape[0] *100\n",
    "        \n",
    "        congr.at[sbj, block] = cue_cong"
   ]
  },
  {
   "cell_type": "code",
   "execution_count": 4,
   "metadata": {},
   "outputs": [],
   "source": [
    "means = dict()\n",
    "for block in blocks: \n",
    "    means[block] = congr[block].mean()"
   ]
  },
  {
   "cell_type": "code",
   "execution_count": 5,
   "metadata": {},
   "outputs": [
    {
     "data": {
      "text/plain": [
       "{1.0: 66.20222180380337,\n",
       " 2.0: 66.74041297935102,\n",
       " 3.0: 66.81415929203541,\n",
       " 4.0: 66.7957227138643,\n",
       " 5.0: 67.40412979351032,\n",
       " 6.0: 67.95722713864306,\n",
       " 7.0: 68.2890855457227,\n",
       " 8.0: 67.46734091866837}"
      ]
     },
     "execution_count": 5,
     "metadata": {},
     "output_type": "execute_result"
    }
   ],
   "source": [
    "means"
   ]
  },
  {
   "cell_type": "code",
   "execution_count": 6,
   "metadata": {},
   "outputs": [
    {
     "data": {
      "text/plain": [
       "<matplotlib.collections.PathCollection at 0x24ea585cc40>"
      ]
     },
     "execution_count": 6,
     "metadata": {},
     "output_type": "execute_result"
    },
    {
     "data": {
      "image/png": "[encoded data removed]",
      "text/plain": [
       "<Figure size 576x360 with 1 Axes>"
      ]
     },
     "metadata": {
      "needs_background": "light"
     },
     "output_type": "display_data"
    }
   ],
   "source": [
    "plt.figure(figsize=(8,5))\n",
    "plt.title('Exp. 1, average cue congruency across blocks')\n",
    "plt.ylim(0,100)\n",
    "plt.xlabel('Block')\n",
    "plt.ylabel('Cue congruency [%]')\n",
    "plt.plot(means.keys(),means.values(), color='magenta')\n",
    "plt.scatter(means.keys(), means.values())"
   ]
  },
  {
   "cell_type": "code",
   "execution_count": 7,
   "metadata": {},
   "outputs": [],
   "source": [
    "# visual data\n",
    "os.chdir('C:\\\\Users\\\\annae\\\\Desktop\\\\ChoiceHistory_Psych\\\\Data\\\\Exp2_visual\\\\')\n",
    "df = pd.read_csv('exp2_prevMotor_prevDiff.csv')\n",
    "\n",
    "df['cue_congruent'] = df['response'] == df['cue']\n",
    "df['cue_congruent'] = df['cue_congruent'].replace({True: 1.0, False: 0.0})"
   ]
  },
  {
   "cell_type": "code",
   "execution_count": 8,
   "metadata": {},
   "outputs": [
    {
     "name": "stderr",
     "output_type": "stream",
     "text": [
      "<ipython-input-8-534d1f60b6fa>:11: RuntimeWarning: invalid value encountered in double_scalars\n",
      "  cue_cong = df_block['cue_congruent'].sum() / df_block.shape[0] *100\n",
      "<ipython-input-8-534d1f60b6fa>:11: RuntimeWarning: invalid value encountered in double_scalars\n",
      "  cue_cong = df_block['cue_congruent'].sum() / df_block.shape[0] *100\n",
      "<ipython-input-8-534d1f60b6fa>:11: RuntimeWarning: invalid value encountered in double_scalars\n",
      "  cue_cong = df_block['cue_congruent'].sum() / df_block.shape[0] *100\n",
      "<ipython-input-8-534d1f60b6fa>:11: RuntimeWarning: invalid value encountered in double_scalars\n",
      "  cue_cong = df_block['cue_congruent'].sum() / df_block.shape[0] *100\n",
      "<ipython-input-8-534d1f60b6fa>:11: RuntimeWarning: invalid value encountered in double_scalars\n",
      "  cue_cong = df_block['cue_congruent'].sum() / df_block.shape[0] *100\n",
      "<ipython-input-8-534d1f60b6fa>:11: RuntimeWarning: invalid value encountered in double_scalars\n",
      "  cue_cong = df_block['cue_congruent'].sum() / df_block.shape[0] *100\n",
      "<ipython-input-8-534d1f60b6fa>:11: RuntimeWarning: invalid value encountered in double_scalars\n",
      "  cue_cong = df_block['cue_congruent'].sum() / df_block.shape[0] *100\n",
      "<ipython-input-8-534d1f60b6fa>:11: RuntimeWarning: invalid value encountered in double_scalars\n",
      "  cue_cong = df_block['cue_congruent'].sum() / df_block.shape[0] *100\n",
      "<ipython-input-8-534d1f60b6fa>:11: RuntimeWarning: invalid value encountered in double_scalars\n",
      "  cue_cong = df_block['cue_congruent'].sum() / df_block.shape[0] *100\n",
      "<ipython-input-8-534d1f60b6fa>:11: RuntimeWarning: invalid value encountered in double_scalars\n",
      "  cue_cong = df_block['cue_congruent'].sum() / df_block.shape[0] *100\n",
      "<ipython-input-8-534d1f60b6fa>:11: RuntimeWarning: invalid value encountered in double_scalars\n",
      "  cue_cong = df_block['cue_congruent'].sum() / df_block.shape[0] *100\n",
      "<ipython-input-8-534d1f60b6fa>:11: RuntimeWarning: invalid value encountered in double_scalars\n",
      "  cue_cong = df_block['cue_congruent'].sum() / df_block.shape[0] *100\n",
      "<ipython-input-8-534d1f60b6fa>:11: RuntimeWarning: invalid value encountered in double_scalars\n",
      "  cue_cong = df_block['cue_congruent'].sum() / df_block.shape[0] *100\n",
      "<ipython-input-8-534d1f60b6fa>:11: RuntimeWarning: invalid value encountered in double_scalars\n",
      "  cue_cong = df_block['cue_congruent'].sum() / df_block.shape[0] *100\n",
      "<ipython-input-8-534d1f60b6fa>:11: RuntimeWarning: invalid value encountered in double_scalars\n",
      "  cue_cong = df_block['cue_congruent'].sum() / df_block.shape[0] *100\n",
      "<ipython-input-8-534d1f60b6fa>:11: RuntimeWarning: invalid value encountered in double_scalars\n",
      "  cue_cong = df_block['cue_congruent'].sum() / df_block.shape[0] *100\n",
      "<ipython-input-8-534d1f60b6fa>:11: RuntimeWarning: invalid value encountered in double_scalars\n",
      "  cue_cong = df_block['cue_congruent'].sum() / df_block.shape[0] *100\n",
      "<ipython-input-8-534d1f60b6fa>:11: RuntimeWarning: invalid value encountered in double_scalars\n",
      "  cue_cong = df_block['cue_congruent'].sum() / df_block.shape[0] *100\n",
      "<ipython-input-8-534d1f60b6fa>:11: RuntimeWarning: invalid value encountered in double_scalars\n",
      "  cue_cong = df_block['cue_congruent'].sum() / df_block.shape[0] *100\n",
      "<ipython-input-8-534d1f60b6fa>:11: RuntimeWarning: invalid value encountered in double_scalars\n",
      "  cue_cong = df_block['cue_congruent'].sum() / df_block.shape[0] *100\n",
      "<ipython-input-8-534d1f60b6fa>:11: RuntimeWarning: invalid value encountered in double_scalars\n",
      "  cue_cong = df_block['cue_congruent'].sum() / df_block.shape[0] *100\n",
      "<ipython-input-8-534d1f60b6fa>:11: RuntimeWarning: invalid value encountered in double_scalars\n",
      "  cue_cong = df_block['cue_congruent'].sum() / df_block.shape[0] *100\n",
      "<ipython-input-8-534d1f60b6fa>:11: RuntimeWarning: invalid value encountered in double_scalars\n",
      "  cue_cong = df_block['cue_congruent'].sum() / df_block.shape[0] *100\n",
      "<ipython-input-8-534d1f60b6fa>:11: RuntimeWarning: invalid value encountered in double_scalars\n",
      "  cue_cong = df_block['cue_congruent'].sum() / df_block.shape[0] *100\n",
      "<ipython-input-8-534d1f60b6fa>:11: RuntimeWarning: invalid value encountered in double_scalars\n",
      "  cue_cong = df_block['cue_congruent'].sum() / df_block.shape[0] *100\n",
      "<ipython-input-8-534d1f60b6fa>:11: RuntimeWarning: invalid value encountered in double_scalars\n",
      "  cue_cong = df_block['cue_congruent'].sum() / df_block.shape[0] *100\n",
      "<ipython-input-8-534d1f60b6fa>:11: RuntimeWarning: invalid value encountered in double_scalars\n",
      "  cue_cong = df_block['cue_congruent'].sum() / df_block.shape[0] *100\n",
      "<ipython-input-8-534d1f60b6fa>:11: RuntimeWarning: invalid value encountered in double_scalars\n",
      "  cue_cong = df_block['cue_congruent'].sum() / df_block.shape[0] *100\n",
      "<ipython-input-8-534d1f60b6fa>:11: RuntimeWarning: invalid value encountered in double_scalars\n",
      "  cue_cong = df_block['cue_congruent'].sum() / df_block.shape[0] *100\n",
      "<ipython-input-8-534d1f60b6fa>:11: RuntimeWarning: invalid value encountered in double_scalars\n",
      "  cue_cong = df_block['cue_congruent'].sum() / df_block.shape[0] *100\n",
      "<ipython-input-8-534d1f60b6fa>:11: RuntimeWarning: invalid value encountered in double_scalars\n",
      "  cue_cong = df_block['cue_congruent'].sum() / df_block.shape[0] *100\n",
      "<ipython-input-8-534d1f60b6fa>:11: RuntimeWarning: invalid value encountered in double_scalars\n",
      "  cue_cong = df_block['cue_congruent'].sum() / df_block.shape[0] *100\n",
      "<ipython-input-8-534d1f60b6fa>:11: RuntimeWarning: invalid value encountered in double_scalars\n",
      "  cue_cong = df_block['cue_congruent'].sum() / df_block.shape[0] *100\n",
      "<ipython-input-8-534d1f60b6fa>:11: RuntimeWarning: invalid value encountered in double_scalars\n",
      "  cue_cong = df_block['cue_congruent'].sum() / df_block.shape[0] *100\n",
      "<ipython-input-8-534d1f60b6fa>:11: RuntimeWarning: invalid value encountered in double_scalars\n",
      "  cue_cong = df_block['cue_congruent'].sum() / df_block.shape[0] *100\n",
      "<ipython-input-8-534d1f60b6fa>:11: RuntimeWarning: invalid value encountered in double_scalars\n",
      "  cue_cong = df_block['cue_congruent'].sum() / df_block.shape[0] *100\n",
      "<ipython-input-8-534d1f60b6fa>:11: RuntimeWarning: invalid value encountered in double_scalars\n",
      "  cue_cong = df_block['cue_congruent'].sum() / df_block.shape[0] *100\n",
      "<ipython-input-8-534d1f60b6fa>:11: RuntimeWarning: invalid value encountered in double_scalars\n",
      "  cue_cong = df_block['cue_congruent'].sum() / df_block.shape[0] *100\n",
      "<ipython-input-8-534d1f60b6fa>:11: RuntimeWarning: invalid value encountered in double_scalars\n",
      "  cue_cong = df_block['cue_congruent'].sum() / df_block.shape[0] *100\n",
      "<ipython-input-8-534d1f60b6fa>:11: RuntimeWarning: invalid value encountered in double_scalars\n",
      "  cue_cong = df_block['cue_congruent'].sum() / df_block.shape[0] *100\n",
      "<ipython-input-8-534d1f60b6fa>:11: RuntimeWarning: invalid value encountered in double_scalars\n",
      "  cue_cong = df_block['cue_congruent'].sum() / df_block.shape[0] *100\n"
     ]
    }
   ],
   "source": [
    "blocks = list(df['Block'].unique())\n",
    "subjects = list(df['sbj_id'].unique())\n",
    "\n",
    "congr = pd.DataFrame(columns = [0.0, 1.0, 2.0, 3.0, 4.0, 5.0, 6.0, 7.0, 8.0])\n",
    "\n",
    "for sbj in subjects:\n",
    "    df_sbj = df[df['sbj_id']==sbj]\n",
    "    for block in blocks: \n",
    "        df_block = df_sbj[df_sbj['Block']==block]\n",
    "        \n",
    "        cue_cong = df_block['cue_congruent'].sum() / df_block.shape[0] *100\n",
    "        \n",
    "        congr.at[sbj, block] = cue_cong"
   ]
  },
  {
   "cell_type": "code",
   "execution_count": 9,
   "metadata": {},
   "outputs": [],
   "source": [
    "means = dict()\n",
    "for block in blocks: \n",
    "    means[block] = congr[block].mean()\n",
    "    \n",
    "removed_value = means.pop(0)"
   ]
  },
  {
   "cell_type": "code",
   "execution_count": 10,
   "metadata": {},
   "outputs": [
    {
     "data": {
      "text/plain": [
       "<matplotlib.collections.PathCollection at 0x24ea59c9670>"
      ]
     },
     "execution_count": 10,
     "metadata": {},
     "output_type": "execute_result"
    },
    {
     "data": {
      "image/png": "[encoded data removed]",
      "text/plain": [
       "<Figure size 576x360 with 1 Axes>"
      ]
     },
     "metadata": {
      "needs_background": "light"
     },
     "output_type": "display_data"
    }
   ],
   "source": [
    "plt.figure(figsize=(8,5))\n",
    "plt.title('Exp. 2, average cue congruency across blocks')\n",
    "plt.ylim(0,100)\n",
    "plt.xlabel('Block')\n",
    "plt.ylabel('Cue congruency [%]')\n",
    "plt.plot(means.keys(),means.values())\n",
    "plt.scatter(means.keys(), means.values(), color='magenta')"
   ]
  },
  {
   "cell_type": "code",
   "execution_count": 11,
   "metadata": {},
   "outputs": [
    {
     "data": {
      "text/plain": [
       "{1: 69.74145398096184,\n",
       " 2: 68.13284524940796,\n",
       " 3: 67.34990365367246,\n",
       " 4: 68.17114139786415,\n",
       " 5: 67.57922732362823,\n",
       " 6: 67.4040256123123,\n",
       " 7: 67.20452028475005,\n",
       " 8: 69.28166276004536}"
      ]
     },
     "execution_count": 11,
     "metadata": {},
     "output_type": "execute_result"
    }
   ],
   "source": [
    "means"
   ]
  },
  {
   "cell_type": "code",
   "execution_count": null,
   "metadata": {},
   "outputs": [],
   "source": []
  }
 ],
 "metadata": {
  "kernelspec": {
   "display_name": "Python 3",
   "language": "python",
   "name": "python3"
  },
  "language_info": {
   "codemirror_mode": {
    "name": "ipython",
    "version": 3
   },
   "file_extension": ".py",
   "mimetype": "text/x-python",
   "name": "python",
   "nbconvert_exporter": "python",
   "pygments_lexer": "ipython3",
   "version": "3.8.3"
  }
 },
 "nbformat": 4,
 "nbformat_minor": 4
}
