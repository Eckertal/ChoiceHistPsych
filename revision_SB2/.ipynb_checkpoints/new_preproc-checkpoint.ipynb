{
 "cells": [
  {
   "cell_type": "code",
   "execution_count": 1,
   "metadata": {},
   "outputs": [],
   "source": [
    "import os, glob\n",
    "import pandas as pd\n",
    "import numpy as np"
   ]
  },
  {
   "cell_type": "code",
   "execution_count": 2,
   "metadata": {},
   "outputs": [],
   "source": [
    "df = pd.read_csv(\"C://Users//annae//Desktop//ChoiceHistory_Psych//Data//Exp1_auditory//exp1_prevMotor_prevEvidence.csv\")\n",
    "# correct z transformation for the evidence variable - whoops\n",
    "df['evidence_z'] = (df['evidence'] - df['evidence'].mean()) / df['evidence'].std()\n",
    "df['evi-1_z'] = (df['evi-1'] - df['evi-1'].mean()) / df['evi-1'].std()\n",
    "\n",
    "def print_mean(df,col):\n",
    "    print(df[col].mean())\n",
    "    print(df[col].std())"
   ]
  },
  {
   "cell_type": "code",
   "execution_count": 3,
   "metadata": {},
   "outputs": [
    {
     "name": "stdout",
     "output_type": "stream",
     "text": [
      "1.0428033169961037e-16\n",
      "1.0000000000001976\n"
     ]
    }
   ],
   "source": [
    "print_mean(df,'evi-1_z')"
   ]
  },
  {
   "cell_type": "code",
   "execution_count": 4,
   "metadata": {},
   "outputs": [],
   "source": [
    "# all looks good, write to datafile\n",
    "df.to_csv('exp1_final.csv')"
   ]
  },
  {
   "cell_type": "code",
   "execution_count": 5,
   "metadata": {},
   "outputs": [
    {
     "data": {
      "text/html": [
       "<div>\n",
       "<style scoped>\n",
       "    .dataframe tbody tr th:only-of-type {\n",
       "        vertical-align: middle;\n",
       "    }\n",
       "\n",
       "    .dataframe tbody tr th {\n",
       "        vertical-align: top;\n",
       "    }\n",
       "\n",
       "    .dataframe thead th {\n",
       "        text-align: right;\n",
       "    }\n",
       "</style>\n",
       "<table border=\"1\" class=\"dataframe\">\n",
       "  <thead>\n",
       "    <tr style=\"text-align: right;\">\n",
       "      <th></th>\n",
       "      <th>Unnamed: 0.2</th>\n",
       "      <th>Unnamed: 0.1</th>\n",
       "      <th>Unnamed: 0</th>\n",
       "      <th>sbj_id</th>\n",
       "      <th>trial</th>\n",
       "      <th>block_type</th>\n",
       "      <th>block</th>\n",
       "      <th>diff</th>\n",
       "      <th>target</th>\n",
       "      <th>response</th>\n",
       "      <th>...</th>\n",
       "      <th>PPS_z</th>\n",
       "      <th>motor-1</th>\n",
       "      <th>diff-1</th>\n",
       "      <th>prev_mot_z</th>\n",
       "      <th>prev_diff_z</th>\n",
       "      <th>correct</th>\n",
       "      <th>evidence</th>\n",
       "      <th>evi-1</th>\n",
       "      <th>evidence_z</th>\n",
       "      <th>evi-1_z</th>\n",
       "    </tr>\n",
       "  </thead>\n",
       "  <tbody>\n",
       "    <tr>\n",
       "      <th>0</th>\n",
       "      <td>0</td>\n",
       "      <td>0</td>\n",
       "      <td>1</td>\n",
       "      <td>2258445.0</td>\n",
       "      <td>2.0</td>\n",
       "      <td>0.0</td>\n",
       "      <td>1.0</td>\n",
       "      <td>2.0</td>\n",
       "      <td>1.0</td>\n",
       "      <td>1.0</td>\n",
       "      <td>...</td>\n",
       "      <td>-0.55441</td>\n",
       "      <td>0.0</td>\n",
       "      <td>0.0</td>\n",
       "      <td>-1.002974</td>\n",
       "      <td>-2.053114</td>\n",
       "      <td>True</td>\n",
       "      <td>5.0</td>\n",
       "      <td>1.0</td>\n",
       "      <td>0.882542</td>\n",
       "      <td>-1.458867</td>\n",
       "    </tr>\n",
       "    <tr>\n",
       "      <th>1</th>\n",
       "      <td>1</td>\n",
       "      <td>1</td>\n",
       "      <td>2</td>\n",
       "      <td>2258445.0</td>\n",
       "      <td>3.0</td>\n",
       "      <td>0.0</td>\n",
       "      <td>1.0</td>\n",
       "      <td>6.0</td>\n",
       "      <td>1.0</td>\n",
       "      <td>0.0</td>\n",
       "      <td>...</td>\n",
       "      <td>-0.55441</td>\n",
       "      <td>0.0</td>\n",
       "      <td>2.0</td>\n",
       "      <td>-1.002974</td>\n",
       "      <td>-0.053114</td>\n",
       "      <td>False</td>\n",
       "      <td>1.0</td>\n",
       "      <td>5.0</td>\n",
       "      <td>-1.458867</td>\n",
       "      <td>0.882542</td>\n",
       "    </tr>\n",
       "    <tr>\n",
       "      <th>2</th>\n",
       "      <td>2</td>\n",
       "      <td>2</td>\n",
       "      <td>3</td>\n",
       "      <td>2258445.0</td>\n",
       "      <td>4.0</td>\n",
       "      <td>0.0</td>\n",
       "      <td>1.0</td>\n",
       "      <td>2.0</td>\n",
       "      <td>1.0</td>\n",
       "      <td>1.0</td>\n",
       "      <td>...</td>\n",
       "      <td>-0.55441</td>\n",
       "      <td>0.0</td>\n",
       "      <td>6.0</td>\n",
       "      <td>-1.002974</td>\n",
       "      <td>3.946886</td>\n",
       "      <td>True</td>\n",
       "      <td>5.0</td>\n",
       "      <td>1.0</td>\n",
       "      <td>0.882542</td>\n",
       "      <td>-1.458867</td>\n",
       "    </tr>\n",
       "    <tr>\n",
       "      <th>3</th>\n",
       "      <td>3</td>\n",
       "      <td>3</td>\n",
       "      <td>4</td>\n",
       "      <td>2258445.0</td>\n",
       "      <td>5.0</td>\n",
       "      <td>0.0</td>\n",
       "      <td>1.0</td>\n",
       "      <td>6.0</td>\n",
       "      <td>1.0</td>\n",
       "      <td>1.0</td>\n",
       "      <td>...</td>\n",
       "      <td>-0.55441</td>\n",
       "      <td>0.0</td>\n",
       "      <td>2.0</td>\n",
       "      <td>-1.002974</td>\n",
       "      <td>-0.053114</td>\n",
       "      <td>True</td>\n",
       "      <td>1.0</td>\n",
       "      <td>5.0</td>\n",
       "      <td>-1.458867</td>\n",
       "      <td>0.882542</td>\n",
       "    </tr>\n",
       "    <tr>\n",
       "      <th>4</th>\n",
       "      <td>4</td>\n",
       "      <td>4</td>\n",
       "      <td>5</td>\n",
       "      <td>2258445.0</td>\n",
       "      <td>6.0</td>\n",
       "      <td>0.0</td>\n",
       "      <td>1.0</td>\n",
       "      <td>3.0</td>\n",
       "      <td>1.0</td>\n",
       "      <td>1.0</td>\n",
       "      <td>...</td>\n",
       "      <td>-0.55441</td>\n",
       "      <td>0.0</td>\n",
       "      <td>6.0</td>\n",
       "      <td>-1.002974</td>\n",
       "      <td>3.946886</td>\n",
       "      <td>True</td>\n",
       "      <td>4.0</td>\n",
       "      <td>1.0</td>\n",
       "      <td>0.297190</td>\n",
       "      <td>-1.458867</td>\n",
       "    </tr>\n",
       "  </tbody>\n",
       "</table>\n",
       "<p>5 rows × 39 columns</p>\n",
       "</div>"
      ],
      "text/plain": [
       "   Unnamed: 0.2  Unnamed: 0.1  Unnamed: 0     sbj_id  trial  block_type  \\\n",
       "0             0             0           1  2258445.0    2.0         0.0   \n",
       "1             1             1           2  2258445.0    3.0         0.0   \n",
       "2             2             2           3  2258445.0    4.0         0.0   \n",
       "3             3             3           4  2258445.0    5.0         0.0   \n",
       "4             4             4           5  2258445.0    6.0         0.0   \n",
       "\n",
       "   block  diff  target  response  ...    PPS_z  motor-1  diff-1  prev_mot_z  \\\n",
       "0    1.0   2.0     1.0       1.0  ... -0.55441      0.0     0.0   -1.002974   \n",
       "1    1.0   6.0     1.0       0.0  ... -0.55441      0.0     2.0   -1.002974   \n",
       "2    1.0   2.0     1.0       1.0  ... -0.55441      0.0     6.0   -1.002974   \n",
       "3    1.0   6.0     1.0       1.0  ... -0.55441      0.0     2.0   -1.002974   \n",
       "4    1.0   3.0     1.0       1.0  ... -0.55441      0.0     6.0   -1.002974   \n",
       "\n",
       "   prev_diff_z  correct  evidence  evi-1  evidence_z   evi-1_z  \n",
       "0    -2.053114     True       5.0    1.0    0.882542 -1.458867  \n",
       "1    -0.053114    False       1.0    5.0   -1.458867  0.882542  \n",
       "2     3.946886     True       5.0    1.0    0.882542 -1.458867  \n",
       "3    -0.053114     True       1.0    5.0   -1.458867  0.882542  \n",
       "4     3.946886     True       4.0    1.0    0.297190 -1.458867  \n",
       "\n",
       "[5 rows x 39 columns]"
      ]
     },
     "execution_count": 5,
     "metadata": {},
     "output_type": "execute_result"
    }
   ],
   "source": [
    "df.head()"
   ]
  },
  {
   "cell_type": "code",
   "execution_count": 6,
   "metadata": {},
   "outputs": [
    {
     "name": "stdout",
     "output_type": "stream",
     "text": [
      "0.000759566037088498\n",
      "1.0000393792814286\n"
     ]
    }
   ],
   "source": [
    "df_v = pd.read_csv('C://Users//annae//Desktop//ChoiceHistory_Psych//Data//Exp2_visual//exp2_prevMotor_prevDiff.csv')\n",
    "print_mean(df_v, 'coherence_z')"
   ]
  },
  {
   "cell_type": "code",
   "execution_count": 7,
   "metadata": {},
   "outputs": [
    {
     "name": "stdout",
     "output_type": "stream",
     "text": [
      "-1.0244451087932755e-13\n",
      "0.9999999999998593\n"
     ]
    }
   ],
   "source": [
    "# previous coherence was not correct\n",
    "df_v['prev_coh_z'] = (df_v['coh-1'] - df_v['coh-1'].mean()) / df_v['coh-1'].std()\n",
    "print_mean(df_v, 'prev_coh_z')"
   ]
  },
  {
   "cell_type": "code",
   "execution_count": 8,
   "metadata": {},
   "outputs": [],
   "source": [
    "df_v.to_csv('exp2_final.csv')"
   ]
  },
  {
   "cell_type": "code",
   "execution_count": 9,
   "metadata": {},
   "outputs": [
    {
     "data": {
      "text/plain": [
       "'C:\\\\Users\\\\annae\\\\Desktop\\\\ChoiceHistory_Psych\\\\revision_SB2'"
      ]
     },
     "execution_count": 9,
     "metadata": {},
     "output_type": "execute_result"
    }
   ],
   "source": [
    "os.getcwd()"
   ]
  },
  {
   "cell_type": "code",
   "execution_count": 10,
   "metadata": {},
   "outputs": [],
   "source": [
    "df_neut = df[df['block_type']==1] # neutral only\n",
    "df_neut.to_csv('exp1_neutOnly.csv')\n",
    "\n",
    "df_v_neut = df_v[df_v['block_type']==1] # neutral only\n",
    "df_v_neut.to_csv('exp2_neutOnly.csv')"
   ]
  },
  {
   "cell_type": "code",
   "execution_count": 11,
   "metadata": {},
   "outputs": [
    {
     "data": {
      "text/plain": [
       "'C:\\\\Users\\\\annae\\\\Desktop\\\\ChoiceHistory_Psych\\\\revision_SB2'"
      ]
     },
     "execution_count": 11,
     "metadata": {},
     "output_type": "execute_result"
    }
   ],
   "source": [
    "os.getcwd()"
   ]
  },
  {
   "cell_type": "code",
   "execution_count": 13,
   "metadata": {},
   "outputs": [],
   "source": [
    "df_rep = df[df['block_type']==0] # rep only\n",
    "df_rep.to_csv('exp1_repOnly.csv')\n",
    "\n",
    "df_v_rep = df_v[df_v['block_type']==0] # rep only\n",
    "df_v_rep.to_csv('exp2_repOnly.csv')"
   ]
  },
  {
   "cell_type": "code",
   "execution_count": 14,
   "metadata": {},
   "outputs": [
    {
     "data": {
      "text/plain": [
       "'C:\\\\Users\\\\annae\\\\Desktop\\\\ChoiceHistory_Psych\\\\revision_SB2'"
      ]
     },
     "execution_count": 14,
     "metadata": {},
     "output_type": "execute_result"
    }
   ],
   "source": [
    "os.getcwd()"
   ]
  },
  {
   "cell_type": "code",
   "execution_count": null,
   "metadata": {},
   "outputs": [],
   "source": []
  }
 ],
 "metadata": {
  "kernelspec": {
   "display_name": "Python 3",
   "language": "python",
   "name": "python3"
  },
  "language_info": {
   "codemirror_mode": {
    "name": "ipython",
    "version": 3
   },
   "file_extension": ".py",
   "mimetype": "text/x-python",
   "name": "python",
   "nbconvert_exporter": "python",
   "pygments_lexer": "ipython3",
   "version": "3.8.3"
  }
 },
 "nbformat": 4,
 "nbformat_minor": 4
}
