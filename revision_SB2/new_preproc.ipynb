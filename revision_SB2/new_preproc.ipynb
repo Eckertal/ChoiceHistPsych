{
 "cells": [
  {
   "cell_type": "code",
   "execution_count": 1,
   "metadata": {},
   "outputs": [],
   "source": [
    "import os, glob\n",
    "import pandas as pd\n",
    "import numpy as np\n",
    "\n",
    "pd.set_option('display.max_columns', None)\n",
    "pd.set_option('display.max_rows',None)"
   ]
  },
  {
   "cell_type": "code",
   "execution_count": 2,
   "metadata": {},
   "outputs": [],
   "source": [
    "def print_mean(df,col):\n",
    "    print(df[col].mean())\n",
    "    print(df[col].std())"
   ]
  },
  {
   "cell_type": "code",
   "execution_count": 3,
   "metadata": {},
   "outputs": [],
   "source": [
    "df = pd.read_csv(\"C://Users//annae//Desktop//ChoiceHistory_Psych//Data//Exp1_auditory//exp1_prevMotor_prevEvidence.csv\")\n",
    "# correct z transformation for the evidence variable - whoops\n",
    "df['evidence_z'] = (df['evidence'] - df['evidence'].mean()) / df['evidence'].std()\n",
    "df['evi-1_z'] = (df['evi-1'] - df['evi-1'].mean()) / df['evi-1'].std()\n",
    "\n",
    "def print_mean(df,col):\n",
    "    print(df[col].mean())\n",
    "    print(df[col].std())"
   ]
  },
  {
   "cell_type": "code",
   "execution_count": 4,
   "metadata": {},
   "outputs": [
    {
     "name": "stdout",
     "output_type": "stream",
     "text": [
      "1.0428033169961037e-16\n",
      "1.0000000000001976\n"
     ]
    }
   ],
   "source": [
    "print_mean(df,'evi-1_z')"
   ]
  },
  {
   "cell_type": "code",
   "execution_count": 5,
   "metadata": {},
   "outputs": [],
   "source": [
    "# all looks good, write to datafile\n",
    "# df.to_csv('exp1_final.csv')"
   ]
  },
  {
   "cell_type": "code",
   "execution_count": 6,
   "metadata": {},
   "outputs": [
    {
     "data": {
      "text/plain": [
       "correct  evidence\n",
       "False    1.0         2557\n",
       "         2.0         2270\n",
       "         3.0         1354\n",
       "         4.0          987\n",
       "         5.0          619\n",
       "         6.0          684\n",
       "True     1.0         4433\n",
       "         2.0         5152\n",
       "         3.0         5765\n",
       "         4.0         5924\n",
       "         5.0         6395\n",
       "         6.0         6461\n",
       "dtype: int64"
      ]
     },
     "execution_count": 6,
     "metadata": {},
     "output_type": "execute_result"
    }
   ],
   "source": [
    "# is the coding of the variable correct? \n",
    "df.groupby(['correct', 'evidence']).size()\n",
    "\n",
    "# yes: more evidence = less false and more correct answers"
   ]
  },
  {
   "cell_type": "code",
   "execution_count": 7,
   "metadata": {},
   "outputs": [
    {
     "name": "stdout",
     "output_type": "stream",
     "text": [
      "0.0007595660370884921\n",
      "1.0000393792814286\n"
     ]
    }
   ],
   "source": [
    "df_v = pd.read_csv('C://Users//annae//Desktop//ChoiceHistory_Psych//Data//Exp2_visual//exp2_prevMotor_prevDiff.csv')\n",
    "print_mean(df_v, 'coherence_z')"
   ]
  },
  {
   "cell_type": "code",
   "execution_count": 8,
   "metadata": {},
   "outputs": [
    {
     "data": {
      "text/plain": [
       "correct  coherence\n",
       "0        0.0005       2252\n",
       "         0.0162       2031\n",
       "         0.0315       1981\n",
       "         0.0792       1465\n",
       "         0.1991        683\n",
       "         0.5000        210\n",
       "1        0.0005       2909\n",
       "         0.0162       3148\n",
       "         0.0315       3202\n",
       "         0.0792       3723\n",
       "         0.1991       4509\n",
       "         0.5000       4974\n",
       "dtype: int64"
      ]
     },
     "execution_count": 8,
     "metadata": {},
     "output_type": "execute_result"
    }
   ],
   "source": [
    "df_v.groupby(['correct', 'coherence']).size()"
   ]
  },
  {
   "cell_type": "code",
   "execution_count": 7,
   "metadata": {},
   "outputs": [
    {
     "name": "stdout",
     "output_type": "stream",
     "text": [
      "-1.0244451087932755e-13\n",
      "0.9999999999998593\n"
     ]
    }
   ],
   "source": [
    "# previous coherence was not correct\n",
    "df_v['prev_coh_z'] = (df_v['coh-1'] - df_v['coh-1'].mean()) / df_v['coh-1'].std()\n",
    "print_mean(df_v, 'prev_coh_z')"
   ]
  },
  {
   "cell_type": "code",
   "execution_count": 8,
   "metadata": {},
   "outputs": [],
   "source": [
    "df_v.to_csv('exp2_final.csv')"
   ]
  },
  {
   "cell_type": "code",
   "execution_count": 9,
   "metadata": {},
   "outputs": [
    {
     "data": {
      "text/plain": [
       "'C:\\\\Users\\\\annae\\\\Desktop\\\\ChoiceHistory_Psych\\\\revision_SB2'"
      ]
     },
     "execution_count": 9,
     "metadata": {},
     "output_type": "execute_result"
    }
   ],
   "source": [
    "os.getcwd()"
   ]
  },
  {
   "cell_type": "code",
   "execution_count": 10,
   "metadata": {},
   "outputs": [],
   "source": [
    "df_neut = df[df['block_type']==1] # neutral only\n",
    "df_neut.to_csv('exp1_neutOnly.csv')\n",
    "\n",
    "df_v_neut = df_v[df_v['block_type']==1] # neutral only\n",
    "df_v_neut.to_csv('exp2_neutOnly.csv')"
   ]
  },
  {
   "cell_type": "code",
   "execution_count": 11,
   "metadata": {},
   "outputs": [
    {
     "data": {
      "text/plain": [
       "'C:\\\\Users\\\\annae\\\\Desktop\\\\ChoiceHistory_Psych\\\\revision_SB2'"
      ]
     },
     "execution_count": 11,
     "metadata": {},
     "output_type": "execute_result"
    }
   ],
   "source": [
    "os.getcwd()"
   ]
  },
  {
   "cell_type": "code",
   "execution_count": 13,
   "metadata": {},
   "outputs": [],
   "source": [
    "df_rep = df[df['block_type']==0] # rep only\n",
    "df_rep.to_csv('exp1_repOnly.csv')\n",
    "\n",
    "df_v_rep = df_v[df_v['block_type']==0] # rep only\n",
    "df_v_rep.to_csv('exp2_repOnly.csv')"
   ]
  },
  {
   "cell_type": "code",
   "execution_count": 14,
   "metadata": {},
   "outputs": [
    {
     "data": {
      "text/plain": [
       "'C:\\\\Users\\\\annae\\\\Desktop\\\\ChoiceHistory_Psych\\\\revision_SB2'"
      ]
     },
     "execution_count": 14,
     "metadata": {},
     "output_type": "execute_result"
    }
   ],
   "source": [
    "os.getcwd()"
   ]
  },
  {
   "cell_type": "code",
   "execution_count": 2,
   "metadata": {},
   "outputs": [],
   "source": [
    "os.chdir('C:\\\\Users\\\\annae\\\\Desktop\\\\ChoiceHistory_Psych\\\\revision_SB2')"
   ]
  },
  {
   "cell_type": "code",
   "execution_count": 9,
   "metadata": {},
   "outputs": [],
   "source": [
    "df_a = pd.read_csv('exp1_final.csv')\n",
    "df_v = pd.read_csv('exp2_final.csv')"
   ]
  },
  {
   "cell_type": "code",
   "execution_count": 8,
   "metadata": {},
   "outputs": [
    {
     "name": "stdout",
     "output_type": "stream",
     "text": [
      "1.1369876321763885e-16\n",
      "1.0000000000001978\n"
     ]
    }
   ],
   "source": [
    "print_mean(df_a, 'evidence_z')"
   ]
  },
  {
   "cell_type": "code",
   "execution_count": 10,
   "metadata": {},
   "outputs": [
    {
     "name": "stdout",
     "output_type": "stream",
     "text": [
      "0.000759566037088498\n",
      "1.0000393792814286\n"
     ]
    }
   ],
   "source": [
    "print_mean(df_v, 'coherence_z')"
   ]
  },
  {
   "cell_type": "code",
   "execution_count": 14,
   "metadata": {},
   "outputs": [
    {
     "data": {
      "text/html": [
       "<div>\n",
       "<style scoped>\n",
       "    .dataframe tbody tr th:only-of-type {\n",
       "        vertical-align: middle;\n",
       "    }\n",
       "\n",
       "    .dataframe tbody tr th {\n",
       "        vertical-align: top;\n",
       "    }\n",
       "\n",
       "    .dataframe thead th {\n",
       "        text-align: right;\n",
       "    }\n",
       "</style>\n",
       "<table border=\"1\" class=\"dataframe\">\n",
       "  <thead>\n",
       "    <tr style=\"text-align: right;\">\n",
       "      <th></th>\n",
       "      <th>Unnamed: 0.3</th>\n",
       "      <th>Unnamed: 0.2</th>\n",
       "      <th>Unnamed: 0.1</th>\n",
       "      <th>Unnamed: 0</th>\n",
       "      <th>sbj_id</th>\n",
       "      <th>trial</th>\n",
       "      <th>block_type</th>\n",
       "      <th>block</th>\n",
       "      <th>diff</th>\n",
       "      <th>target</th>\n",
       "      <th>response</th>\n",
       "      <th>cue</th>\n",
       "      <th>caps</th>\n",
       "      <th>pdi</th>\n",
       "      <th>motor</th>\n",
       "      <th>resp_1</th>\n",
       "      <th>stim_1</th>\n",
       "      <th>pdi_zscore</th>\n",
       "      <th>caps_zscore</th>\n",
       "      <th>PPS</th>\n",
       "      <th>block_type_z</th>\n",
       "      <th>diff_z</th>\n",
       "      <th>target_z</th>\n",
       "      <th>response_z</th>\n",
       "      <th>cue_z</th>\n",
       "      <th>caps_z</th>\n",
       "      <th>pdi_z</th>\n",
       "      <th>motor_z</th>\n",
       "      <th>resp_1_z</th>\n",
       "      <th>stim_1_z</th>\n",
       "      <th>PPS_z</th>\n",
       "      <th>motor-1</th>\n",
       "      <th>diff-1</th>\n",
       "      <th>prev_mot_z</th>\n",
       "      <th>prev_diff_z</th>\n",
       "      <th>correct</th>\n",
       "      <th>evidence</th>\n",
       "      <th>evi-1</th>\n",
       "      <th>evidence_z</th>\n",
       "      <th>evi-1_z</th>\n",
       "    </tr>\n",
       "  </thead>\n",
       "  <tbody>\n",
       "    <tr>\n",
       "      <th>0</th>\n",
       "      <td>0</td>\n",
       "      <td>0</td>\n",
       "      <td>0</td>\n",
       "      <td>1</td>\n",
       "      <td>2258445.0</td>\n",
       "      <td>2.0</td>\n",
       "      <td>0.0</td>\n",
       "      <td>1.0</td>\n",
       "      <td>2.0</td>\n",
       "      <td>1.0</td>\n",
       "      <td>1.0</td>\n",
       "      <td>1.0</td>\n",
       "      <td>5.0</td>\n",
       "      <td>5.0</td>\n",
       "      <td>0.0</td>\n",
       "      <td>1.0</td>\n",
       "      <td>1.0</td>\n",
       "      <td>-0.644205</td>\n",
       "      <td>-0.37994</td>\n",
       "      <td>-1.024145</td>\n",
       "      <td>-0.999839</td>\n",
       "      <td>-0.883122</td>\n",
       "      <td>0.997406</td>\n",
       "      <td>1.005324</td>\n",
       "      <td>0.971825</td>\n",
       "      <td>-0.37994</td>\n",
       "      <td>-0.644205</td>\n",
       "      <td>-1.002647</td>\n",
       "      <td>1.002797</td>\n",
       "      <td>0.993006</td>\n",
       "      <td>-0.55441</td>\n",
       "      <td>0.0</td>\n",
       "      <td>0.0</td>\n",
       "      <td>-1.002974</td>\n",
       "      <td>-2.053114</td>\n",
       "      <td>True</td>\n",
       "      <td>5.0</td>\n",
       "      <td>1.0</td>\n",
       "      <td>0.882542</td>\n",
       "      <td>-1.458867</td>\n",
       "    </tr>\n",
       "    <tr>\n",
       "      <th>1</th>\n",
       "      <td>1</td>\n",
       "      <td>1</td>\n",
       "      <td>1</td>\n",
       "      <td>2</td>\n",
       "      <td>2258445.0</td>\n",
       "      <td>3.0</td>\n",
       "      <td>0.0</td>\n",
       "      <td>1.0</td>\n",
       "      <td>6.0</td>\n",
       "      <td>1.0</td>\n",
       "      <td>0.0</td>\n",
       "      <td>1.0</td>\n",
       "      <td>5.0</td>\n",
       "      <td>5.0</td>\n",
       "      <td>0.0</td>\n",
       "      <td>1.0</td>\n",
       "      <td>1.0</td>\n",
       "      <td>-0.644205</td>\n",
       "      <td>-0.37994</td>\n",
       "      <td>-1.024145</td>\n",
       "      <td>-0.999839</td>\n",
       "      <td>1.457683</td>\n",
       "      <td>0.997406</td>\n",
       "      <td>-0.994704</td>\n",
       "      <td>0.971825</td>\n",
       "      <td>-0.37994</td>\n",
       "      <td>-0.644205</td>\n",
       "      <td>-1.002647</td>\n",
       "      <td>1.002797</td>\n",
       "      <td>0.993006</td>\n",
       "      <td>-0.55441</td>\n",
       "      <td>0.0</td>\n",
       "      <td>2.0</td>\n",
       "      <td>-1.002974</td>\n",
       "      <td>-0.053114</td>\n",
       "      <td>False</td>\n",
       "      <td>1.0</td>\n",
       "      <td>5.0</td>\n",
       "      <td>-1.458867</td>\n",
       "      <td>0.882542</td>\n",
       "    </tr>\n",
       "    <tr>\n",
       "      <th>2</th>\n",
       "      <td>2</td>\n",
       "      <td>2</td>\n",
       "      <td>2</td>\n",
       "      <td>3</td>\n",
       "      <td>2258445.0</td>\n",
       "      <td>4.0</td>\n",
       "      <td>0.0</td>\n",
       "      <td>1.0</td>\n",
       "      <td>2.0</td>\n",
       "      <td>1.0</td>\n",
       "      <td>1.0</td>\n",
       "      <td>1.0</td>\n",
       "      <td>5.0</td>\n",
       "      <td>5.0</td>\n",
       "      <td>0.0</td>\n",
       "      <td>0.0</td>\n",
       "      <td>1.0</td>\n",
       "      <td>-0.644205</td>\n",
       "      <td>-0.37994</td>\n",
       "      <td>-1.024145</td>\n",
       "      <td>-0.999839</td>\n",
       "      <td>-0.883122</td>\n",
       "      <td>0.997406</td>\n",
       "      <td>1.005324</td>\n",
       "      <td>0.971825</td>\n",
       "      <td>-0.37994</td>\n",
       "      <td>-0.644205</td>\n",
       "      <td>-1.002647</td>\n",
       "      <td>-0.997211</td>\n",
       "      <td>0.993006</td>\n",
       "      <td>-0.55441</td>\n",
       "      <td>0.0</td>\n",
       "      <td>6.0</td>\n",
       "      <td>-1.002974</td>\n",
       "      <td>3.946886</td>\n",
       "      <td>True</td>\n",
       "      <td>5.0</td>\n",
       "      <td>1.0</td>\n",
       "      <td>0.882542</td>\n",
       "      <td>-1.458867</td>\n",
       "    </tr>\n",
       "    <tr>\n",
       "      <th>3</th>\n",
       "      <td>3</td>\n",
       "      <td>3</td>\n",
       "      <td>3</td>\n",
       "      <td>4</td>\n",
       "      <td>2258445.0</td>\n",
       "      <td>5.0</td>\n",
       "      <td>0.0</td>\n",
       "      <td>1.0</td>\n",
       "      <td>6.0</td>\n",
       "      <td>1.0</td>\n",
       "      <td>1.0</td>\n",
       "      <td>1.0</td>\n",
       "      <td>5.0</td>\n",
       "      <td>5.0</td>\n",
       "      <td>0.0</td>\n",
       "      <td>1.0</td>\n",
       "      <td>1.0</td>\n",
       "      <td>-0.644205</td>\n",
       "      <td>-0.37994</td>\n",
       "      <td>-1.024145</td>\n",
       "      <td>-0.999839</td>\n",
       "      <td>1.457683</td>\n",
       "      <td>0.997406</td>\n",
       "      <td>1.005324</td>\n",
       "      <td>0.971825</td>\n",
       "      <td>-0.37994</td>\n",
       "      <td>-0.644205</td>\n",
       "      <td>-1.002647</td>\n",
       "      <td>1.002797</td>\n",
       "      <td>0.993006</td>\n",
       "      <td>-0.55441</td>\n",
       "      <td>0.0</td>\n",
       "      <td>2.0</td>\n",
       "      <td>-1.002974</td>\n",
       "      <td>-0.053114</td>\n",
       "      <td>True</td>\n",
       "      <td>1.0</td>\n",
       "      <td>5.0</td>\n",
       "      <td>-1.458867</td>\n",
       "      <td>0.882542</td>\n",
       "    </tr>\n",
       "    <tr>\n",
       "      <th>4</th>\n",
       "      <td>4</td>\n",
       "      <td>4</td>\n",
       "      <td>4</td>\n",
       "      <td>5</td>\n",
       "      <td>2258445.0</td>\n",
       "      <td>6.0</td>\n",
       "      <td>0.0</td>\n",
       "      <td>1.0</td>\n",
       "      <td>3.0</td>\n",
       "      <td>1.0</td>\n",
       "      <td>1.0</td>\n",
       "      <td>1.0</td>\n",
       "      <td>5.0</td>\n",
       "      <td>5.0</td>\n",
       "      <td>0.0</td>\n",
       "      <td>1.0</td>\n",
       "      <td>1.0</td>\n",
       "      <td>-0.644205</td>\n",
       "      <td>-0.37994</td>\n",
       "      <td>-1.024145</td>\n",
       "      <td>-0.999839</td>\n",
       "      <td>-0.297921</td>\n",
       "      <td>0.997406</td>\n",
       "      <td>1.005324</td>\n",
       "      <td>0.971825</td>\n",
       "      <td>-0.37994</td>\n",
       "      <td>-0.644205</td>\n",
       "      <td>-1.002647</td>\n",
       "      <td>1.002797</td>\n",
       "      <td>0.993006</td>\n",
       "      <td>-0.55441</td>\n",
       "      <td>0.0</td>\n",
       "      <td>6.0</td>\n",
       "      <td>-1.002974</td>\n",
       "      <td>3.946886</td>\n",
       "      <td>True</td>\n",
       "      <td>4.0</td>\n",
       "      <td>1.0</td>\n",
       "      <td>0.297190</td>\n",
       "      <td>-1.458867</td>\n",
       "    </tr>\n",
       "  </tbody>\n",
       "</table>\n",
       "</div>"
      ],
      "text/plain": [
       "   Unnamed: 0.3  Unnamed: 0.2  Unnamed: 0.1  Unnamed: 0     sbj_id  trial  \\\n",
       "0             0             0             0           1  2258445.0    2.0   \n",
       "1             1             1             1           2  2258445.0    3.0   \n",
       "2             2             2             2           3  2258445.0    4.0   \n",
       "3             3             3             3           4  2258445.0    5.0   \n",
       "4             4             4             4           5  2258445.0    6.0   \n",
       "\n",
       "   block_type  block  diff  target  response  cue  caps  pdi  motor  resp_1  \\\n",
       "0         0.0    1.0   2.0     1.0       1.0  1.0   5.0  5.0    0.0     1.0   \n",
       "1         0.0    1.0   6.0     1.0       0.0  1.0   5.0  5.0    0.0     1.0   \n",
       "2         0.0    1.0   2.0     1.0       1.0  1.0   5.0  5.0    0.0     0.0   \n",
       "3         0.0    1.0   6.0     1.0       1.0  1.0   5.0  5.0    0.0     1.0   \n",
       "4         0.0    1.0   3.0     1.0       1.0  1.0   5.0  5.0    0.0     1.0   \n",
       "\n",
       "   stim_1  pdi_zscore  caps_zscore       PPS  block_type_z    diff_z  \\\n",
       "0     1.0   -0.644205     -0.37994 -1.024145     -0.999839 -0.883122   \n",
       "1     1.0   -0.644205     -0.37994 -1.024145     -0.999839  1.457683   \n",
       "2     1.0   -0.644205     -0.37994 -1.024145     -0.999839 -0.883122   \n",
       "3     1.0   -0.644205     -0.37994 -1.024145     -0.999839  1.457683   \n",
       "4     1.0   -0.644205     -0.37994 -1.024145     -0.999839 -0.297921   \n",
       "\n",
       "   target_z  response_z     cue_z   caps_z     pdi_z   motor_z  resp_1_z  \\\n",
       "0  0.997406    1.005324  0.971825 -0.37994 -0.644205 -1.002647  1.002797   \n",
       "1  0.997406   -0.994704  0.971825 -0.37994 -0.644205 -1.002647  1.002797   \n",
       "2  0.997406    1.005324  0.971825 -0.37994 -0.644205 -1.002647 -0.997211   \n",
       "3  0.997406    1.005324  0.971825 -0.37994 -0.644205 -1.002647  1.002797   \n",
       "4  0.997406    1.005324  0.971825 -0.37994 -0.644205 -1.002647  1.002797   \n",
       "\n",
       "   stim_1_z    PPS_z  motor-1  diff-1  prev_mot_z  prev_diff_z  correct  \\\n",
       "0  0.993006 -0.55441      0.0     0.0   -1.002974    -2.053114     True   \n",
       "1  0.993006 -0.55441      0.0     2.0   -1.002974    -0.053114    False   \n",
       "2  0.993006 -0.55441      0.0     6.0   -1.002974     3.946886     True   \n",
       "3  0.993006 -0.55441      0.0     2.0   -1.002974    -0.053114     True   \n",
       "4  0.993006 -0.55441      0.0     6.0   -1.002974     3.946886     True   \n",
       "\n",
       "   evidence  evi-1  evidence_z   evi-1_z  \n",
       "0       5.0    1.0    0.882542 -1.458867  \n",
       "1       1.0    5.0   -1.458867  0.882542  \n",
       "2       5.0    1.0    0.882542 -1.458867  \n",
       "3       1.0    5.0   -1.458867  0.882542  \n",
       "4       4.0    1.0    0.297190 -1.458867  "
      ]
     },
     "execution_count": 14,
     "metadata": {},
     "output_type": "execute_result"
    }
   ],
   "source": [
    "df_a.head()"
   ]
  },
  {
   "cell_type": "code",
   "execution_count": null,
   "metadata": {},
   "outputs": [],
   "source": []
  }
 ],
 "metadata": {
  "kernelspec": {
   "display_name": "Python 3",
   "language": "python",
   "name": "python3"
  },
  "language_info": {
   "codemirror_mode": {
    "name": "ipython",
    "version": 3
   },
   "file_extension": ".py",
   "mimetype": "text/x-python",
   "name": "python",
   "nbconvert_exporter": "python",
   "pygments_lexer": "ipython3",
   "version": "3.8.3"
  }
 },
 "nbformat": 4,
 "nbformat_minor": 4
}
